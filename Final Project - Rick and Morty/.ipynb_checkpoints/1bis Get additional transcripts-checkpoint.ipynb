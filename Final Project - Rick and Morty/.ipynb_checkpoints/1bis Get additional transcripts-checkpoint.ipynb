{
 "cells": [
  {
   "cell_type": "markdown",
   "id": "a93e5d58",
   "metadata": {},
   "source": [
    "# Get Transcripts"
   ]
  },
  {
   "cell_type": "code",
   "execution_count": 1,
   "id": "5433f0dc",
   "metadata": {},
   "outputs": [],
   "source": [
    "import pandas as pd\n",
    "import re\n",
    "\n",
    "def make_clickable(val):\n",
    "    return '<a target=\"_blank\" href=\"{}\">{}</a>'.format(val, val)"
   ]
  },
  {
   "cell_type": "markdown",
   "id": "1f9c14fb",
   "metadata": {},
   "source": [
    "## Update `hasTranscript` of `df_episodes`, inspecting `RickAndMortyScripts.csv`"
   ]
  },
  {
   "cell_type": "markdown",
   "id": "c0e7ccd7",
   "metadata": {},
   "source": [
    "First, let's indicate in a column `hasTranscript` in RaM_episodes.csv the transcripts we already have through Kaggle database (https://www.kaggle.com/andradaolteanu/rickmorty-scripts/version/1)."
   ]
  },
  {
   "cell_type": "code",
   "execution_count": 2,
   "id": "40265c07",
   "metadata": {},
   "outputs": [],
   "source": [
    "df_transcripts = pd.read_csv(\"transcripts/RickAndMortyScripts.csv\")\n",
    "\n",
    "# create an initial column in RaM_episodes\n",
    "df_episodes = pd.read_csv('RaM_episodes.csv')\n",
    "df_episodes['hasTranscript']=[False for _ in range (len(df_episodes))]\n",
    "\n",
    "# assign True for all transcripts we have in RickAndMortyScripts.csv from Kaggle database >> 11 episodes are concerned\n",
    "def registerHasTranscript(aRow):\n",
    "    rowIndex = df_episodes[(df_episodes.Episode_nb == aRow['episode no.']) & (df_episodes.Season_nb==aRow['season no.'])].index[0]\n",
    "    df_episodes.loc[rowIndex, ['hasTranscript']]=True\n",
    "\n",
    "_ = df_transcripts[['season no.', 'episode no.']].drop_duplicates().apply(registerHasTranscript, axis=1)\n",
    "\n",
    "assert len(df_episodes[df_episodes.hasTranscript]) == len(df_transcripts[['season no.', 'episode no.']].drop_duplicates())"
   ]
  },
  {
   "cell_type": "code",
   "execution_count": 3,
   "id": "c2c90b25",
   "metadata": {},
   "outputs": [
    {
     "data": {
      "text/html": [
       "<div>\n",
       "<style scoped>\n",
       "    .dataframe tbody tr th:only-of-type {\n",
       "        vertical-align: middle;\n",
       "    }\n",
       "\n",
       "    .dataframe tbody tr th {\n",
       "        vertical-align: top;\n",
       "    }\n",
       "\n",
       "    .dataframe thead th {\n",
       "        text-align: right;\n",
       "    }\n",
       "</style>\n",
       "<table border=\"1\" class=\"dataframe\">\n",
       "  <thead>\n",
       "    <tr style=\"text-align: right;\">\n",
       "      <th></th>\n",
       "      <th>season no.</th>\n",
       "      <th>episode no.</th>\n",
       "      <th>episode name</th>\n",
       "      <th>name</th>\n",
       "      <th>line</th>\n",
       "    </tr>\n",
       "  </thead>\n",
       "  <tbody>\n",
       "    <tr>\n",
       "      <th>0</th>\n",
       "      <td>1</td>\n",
       "      <td>1</td>\n",
       "      <td>Pilot</td>\n",
       "      <td>Rick</td>\n",
       "      <td>Morty! You gotta come on. Jus'... you gotta co...</td>\n",
       "    </tr>\n",
       "    <tr>\n",
       "      <th>1</th>\n",
       "      <td>1</td>\n",
       "      <td>1</td>\n",
       "      <td>Pilot</td>\n",
       "      <td>Morty</td>\n",
       "      <td>What, Rick? What’s going on?</td>\n",
       "    </tr>\n",
       "    <tr>\n",
       "      <th>2</th>\n",
       "      <td>1</td>\n",
       "      <td>1</td>\n",
       "      <td>Pilot</td>\n",
       "      <td>Rick</td>\n",
       "      <td>I got a surprise for you, Morty.</td>\n",
       "    </tr>\n",
       "    <tr>\n",
       "      <th>3</th>\n",
       "      <td>1</td>\n",
       "      <td>1</td>\n",
       "      <td>Pilot</td>\n",
       "      <td>Morty</td>\n",
       "      <td>It's the middle of the night. What are you tal...</td>\n",
       "    </tr>\n",
       "    <tr>\n",
       "      <th>4</th>\n",
       "      <td>1</td>\n",
       "      <td>1</td>\n",
       "      <td>Pilot</td>\n",
       "      <td>Rick</td>\n",
       "      <td>Come on, I got a surprise for you.  Come on, h...</td>\n",
       "    </tr>\n",
       "    <tr>\n",
       "      <th>...</th>\n",
       "      <td>...</td>\n",
       "      <td>...</td>\n",
       "      <td>...</td>\n",
       "      <td>...</td>\n",
       "      <td>...</td>\n",
       "    </tr>\n",
       "    <tr>\n",
       "      <th>6012</th>\n",
       "      <td>5</td>\n",
       "      <td>2</td>\n",
       "      <td>Mortyplicity</td>\n",
       "      <td>Woodpecker</td>\n",
       "      <td>What is it?</td>\n",
       "    </tr>\n",
       "    <tr>\n",
       "      <th>6013</th>\n",
       "      <td>5</td>\n",
       "      <td>2</td>\n",
       "      <td>Mortyplicity</td>\n",
       "      <td>Dolphin</td>\n",
       "      <td>A relic...from a kinder past.</td>\n",
       "    </tr>\n",
       "    <tr>\n",
       "      <th>6014</th>\n",
       "      <td>5</td>\n",
       "      <td>2</td>\n",
       "      <td>Mortyplicity</td>\n",
       "      <td>Glockenspiel Jerry</td>\n",
       "      <td>Wait, cowboys?</td>\n",
       "    </tr>\n",
       "    <tr>\n",
       "      <th>6015</th>\n",
       "      <td>5</td>\n",
       "      <td>2</td>\n",
       "      <td>Mortyplicity</td>\n",
       "      <td>Glockenspiel Jerry</td>\n",
       "      <td>Christianity again? After cowboys? You went al...</td>\n",
       "    </tr>\n",
       "    <tr>\n",
       "      <th>6016</th>\n",
       "      <td>5</td>\n",
       "      <td>2</td>\n",
       "      <td>Mortyplicity</td>\n",
       "      <td>Glockenspiel Jerry</td>\n",
       "      <td>Oh god, why can't I die? This is the worst thi...</td>\n",
       "    </tr>\n",
       "  </tbody>\n",
       "</table>\n",
       "<p>6017 rows × 5 columns</p>\n",
       "</div>"
      ],
      "text/plain": [
       "      season no.  episode no.  episode name                name  \\\n",
       "0              1            1         Pilot                Rick   \n",
       "1              1            1         Pilot               Morty   \n",
       "2              1            1         Pilot                Rick   \n",
       "3              1            1         Pilot               Morty   \n",
       "4              1            1         Pilot                Rick   \n",
       "...          ...          ...           ...                 ...   \n",
       "6012           5            2  Mortyplicity          Woodpecker   \n",
       "6013           5            2  Mortyplicity             Dolphin   \n",
       "6014           5            2  Mortyplicity  Glockenspiel Jerry   \n",
       "6015           5            2  Mortyplicity  Glockenspiel Jerry   \n",
       "6016           5            2  Mortyplicity  Glockenspiel Jerry   \n",
       "\n",
       "                                                   line  \n",
       "0     Morty! You gotta come on. Jus'... you gotta co...  \n",
       "1                          What, Rick? What’s going on?  \n",
       "2                      I got a surprise for you, Morty.  \n",
       "3     It's the middle of the night. What are you tal...  \n",
       "4     Come on, I got a surprise for you.  Come on, h...  \n",
       "...                                                 ...  \n",
       "6012                                        What is it?  \n",
       "6013                      A relic...from a kinder past.  \n",
       "6014                                     Wait, cowboys?  \n",
       "6015  Christianity again? After cowboys? You went al...  \n",
       "6016  Oh god, why can't I die? This is the worst thi...  \n",
       "\n",
       "[6017 rows x 5 columns]"
      ]
     },
     "execution_count": 3,
     "metadata": {},
     "output_type": "execute_result"
    }
   ],
   "source": [
    "df_transcripts[df_transcripts['season no.']==1 and ]"
   ]
  },
  {
   "cell_type": "raw",
   "id": "a6467548",
   "metadata": {},
   "source": [
    "# from initial dataset to base\n",
    "df_transcripts.drop('index',axis=1).to_csv(\"transcripts/RickAndMortyScripts.csv\", index=False)"
   ]
  },
  {
   "cell_type": "raw",
   "id": "5bc469ea",
   "metadata": {},
   "source": [
    "# remove empty lines\n",
    "df_transcripts = df_transcripts.drop(df_transcripts[df_transcripts.line.isna()].index, axis=0)\n",
    "df_transcripts.to_csv(\"transcripts/RickAndMortyScripts.csv\", index=False)"
   ]
  },
  {
   "cell_type": "code",
   "execution_count": 202,
   "id": "6c9ad3e2",
   "metadata": {},
   "outputs": [],
   "source": [
    "# save as csv\n",
    "df_episodes.to_csv('RaM_episodes.csv', index=False)"
   ]
  },
  {
   "cell_type": "raw",
   "id": "8eec3473",
   "metadata": {},
   "source": [
    "# see for each season\n",
    "df_episodes[(df_episodes.Season_nb == 1) ].style.format(make_clickable, 'Hyperlink')#& (df_episodes.hasTranscript == False)]"
   ]
  },
  {
   "cell_type": "markdown",
   "id": "40cae9f6",
   "metadata": {},
   "source": [
    "## What to extent?"
   ]
  },
  {
   "cell_type": "markdown",
   "id": "fbcc6685",
   "metadata": {},
   "source": [
    "[OK] Let's extend our transcripts database with the transcripts from the top-10 best episodes based on IMDb ranking (https://www.imdb.com/search/title/?series=tt2861424&sort=user_rating,desc&count=250&view=advanced)."
   ]
  },
  {
   "cell_type": "code",
   "execution_count": 198,
   "id": "16706a6c",
   "metadata": {},
   "outputs": [
    {
     "data": {
      "text/html": [
       "<style type=\"text/css\">\n",
       "</style>\n",
       "<table id=\"T_0322a_\">\n",
       "  <thead>\n",
       "    <tr>\n",
       "      <th class=\"blank level0\" >&nbsp;</th>\n",
       "      <th class=\"col_heading level0 col0\" >rank</th>\n",
       "      <th class=\"col_heading level0 col1\" >Title</th>\n",
       "      <th class=\"col_heading level0 col2\" >Hyperlink</th>\n",
       "      <th class=\"col_heading level0 col3\" >Season_nb_x</th>\n",
       "      <th class=\"col_heading level0 col4\" >Episode_nb_x</th>\n",
       "      <th class=\"col_heading level0 col5\" >hasTranscript</th>\n",
       "    </tr>\n",
       "  </thead>\n",
       "  <tbody>\n",
       "    <tr>\n",
       "      <th id=\"T_0322a_level0_row0\" class=\"row_heading level0 row0\" >50</th>\n",
       "      <td id=\"T_0322a_row0_col0\" class=\"data row0 col0\" >4</td>\n",
       "      <td id=\"T_0322a_row0_col1\" class=\"data row0 col1\" >Rickmurai Jack</td>\n",
       "      <td id=\"T_0322a_row0_col2\" class=\"data row0 col2\" ><a target=\"_blank\" href=\"https://rickandmorty.fandom.com/wiki/Rickmurai_Jack\">https://rickandmorty.fandom.com/wiki/Rickmurai_Jack</a></td>\n",
       "      <td id=\"T_0322a_row0_col3\" class=\"data row0 col3\" >5</td>\n",
       "      <td id=\"T_0322a_row0_col4\" class=\"data row0 col4\" >10</td>\n",
       "      <td id=\"T_0322a_row0_col5\" class=\"data row0 col5\" >True</td>\n",
       "    </tr>\n",
       "    <tr>\n",
       "      <th id=\"T_0322a_level0_row1\" class=\"row_heading level0 row1\" >41</th>\n",
       "      <td id=\"T_0322a_row1_col0\" class=\"data row1 col0\" >12</td>\n",
       "      <td id=\"T_0322a_row1_col1\" class=\"data row1 col1\" >Mort Dinner Rick Andre</td>\n",
       "      <td id=\"T_0322a_row1_col2\" class=\"data row1 col2\" ><a target=\"_blank\" href=\"https://rickandmorty.fandom.com/wiki/Mort_Dinner_Rick_Andre\">https://rickandmorty.fandom.com/wiki/Mort_Dinner_Rick_Andre</a></td>\n",
       "      <td id=\"T_0322a_row1_col3\" class=\"data row1 col3\" >5</td>\n",
       "      <td id=\"T_0322a_row1_col4\" class=\"data row1 col4\" >1</td>\n",
       "      <td id=\"T_0322a_row1_col5\" class=\"data row1 col5\" >False</td>\n",
       "    </tr>\n",
       "    <tr>\n",
       "      <th id=\"T_0322a_level0_row2\" class=\"row_heading level0 row2\" >42</th>\n",
       "      <td id=\"T_0322a_row2_col0\" class=\"data row2 col0\" >21</td>\n",
       "      <td id=\"T_0322a_row2_col1\" class=\"data row2 col1\" >Mortyplicity</td>\n",
       "      <td id=\"T_0322a_row2_col2\" class=\"data row2 col2\" ><a target=\"_blank\" href=\"https://rickandmorty.fandom.com/wiki/Mortyplicity\">https://rickandmorty.fandom.com/wiki/Mortyplicity</a></td>\n",
       "      <td id=\"T_0322a_row2_col3\" class=\"data row2 col3\" >5</td>\n",
       "      <td id=\"T_0322a_row2_col4\" class=\"data row2 col4\" >2</td>\n",
       "      <td id=\"T_0322a_row2_col5\" class=\"data row2 col5\" >False</td>\n",
       "    </tr>\n",
       "    <tr>\n",
       "      <th id=\"T_0322a_level0_row3\" class=\"row_heading level0 row3\" >49</th>\n",
       "      <td id=\"T_0322a_row3_col0\" class=\"data row3 col0\" >30</td>\n",
       "      <td id=\"T_0322a_row3_col1\" class=\"data row3 col1\" >Forgetting Sarick Mortshall</td>\n",
       "      <td id=\"T_0322a_row3_col2\" class=\"data row3 col2\" ><a target=\"_blank\" href=\"https://rickandmorty.fandom.com/wiki/Forgetting_Sarick_Mortshall\">https://rickandmorty.fandom.com/wiki/Forgetting_Sarick_Mortshall</a></td>\n",
       "      <td id=\"T_0322a_row3_col3\" class=\"data row3 col3\" >5</td>\n",
       "      <td id=\"T_0322a_row3_col4\" class=\"data row3 col4\" >9</td>\n",
       "      <td id=\"T_0322a_row3_col5\" class=\"data row3 col5\" >False</td>\n",
       "    </tr>\n",
       "    <tr>\n",
       "      <th id=\"T_0322a_level0_row4\" class=\"row_heading level0 row4\" >48</th>\n",
       "      <td id=\"T_0322a_row4_col0\" class=\"data row4 col0\" >32</td>\n",
       "      <td id=\"T_0322a_row4_col1\" class=\"data row4 col1\" >Rickternal Friendshine of the Spotless Mort</td>\n",
       "      <td id=\"T_0322a_row4_col2\" class=\"data row4 col2\" ><a target=\"_blank\" href=\"https://rickandmorty.fandom.com/wiki/Rickternal_Friendshine_of_the_Spotless_Mort\">https://rickandmorty.fandom.com/wiki/Rickternal_Friendshine_of_the_Spotless_Mort</a></td>\n",
       "      <td id=\"T_0322a_row4_col3\" class=\"data row4 col3\" >5</td>\n",
       "      <td id=\"T_0322a_row4_col4\" class=\"data row4 col4\" >8</td>\n",
       "      <td id=\"T_0322a_row4_col5\" class=\"data row4 col5\" >False</td>\n",
       "    </tr>\n",
       "    <tr>\n",
       "      <th id=\"T_0322a_level0_row5\" class=\"row_heading level0 row5\" >43</th>\n",
       "      <td id=\"T_0322a_row5_col0\" class=\"data row5 col0\" >44</td>\n",
       "      <td id=\"T_0322a_row5_col1\" class=\"data row5 col1\" >A Rickconvenient Mort</td>\n",
       "      <td id=\"T_0322a_row5_col2\" class=\"data row5 col2\" ><a target=\"_blank\" href=\"https://rickandmorty.fandom.com/wiki/A_Rickconvenient_Mort\">https://rickandmorty.fandom.com/wiki/A_Rickconvenient_Mort</a></td>\n",
       "      <td id=\"T_0322a_row5_col3\" class=\"data row5 col3\" >5</td>\n",
       "      <td id=\"T_0322a_row5_col4\" class=\"data row5 col4\" >3</td>\n",
       "      <td id=\"T_0322a_row5_col5\" class=\"data row5 col5\" >False</td>\n",
       "    </tr>\n",
       "    <tr>\n",
       "      <th id=\"T_0322a_level0_row6\" class=\"row_heading level0 row6\" >46</th>\n",
       "      <td id=\"T_0322a_row6_col0\" class=\"data row6 col0\" >48</td>\n",
       "      <td id=\"T_0322a_row6_col1\" class=\"data row6 col1\" >Rick & Morty's Thanksploitation Spectacular</td>\n",
       "      <td id=\"T_0322a_row6_col2\" class=\"data row6 col2\" ><a target=\"_blank\" href=\"https://rickandmorty.fandom.com/wiki/Rick_%26_Morty%27s_Thanksploitation_Spectacular\">https://rickandmorty.fandom.com/wiki/Rick_%26_Morty%27s_Thanksploitation_Spectacular</a></td>\n",
       "      <td id=\"T_0322a_row6_col3\" class=\"data row6 col3\" >5</td>\n",
       "      <td id=\"T_0322a_row6_col4\" class=\"data row6 col4\" >6</td>\n",
       "      <td id=\"T_0322a_row6_col5\" class=\"data row6 col5\" >False</td>\n",
       "    </tr>\n",
       "    <tr>\n",
       "      <th id=\"T_0322a_level0_row7\" class=\"row_heading level0 row7\" >45</th>\n",
       "      <td id=\"T_0322a_row7_col0\" class=\"data row7 col0\" >49</td>\n",
       "      <td id=\"T_0322a_row7_col1\" class=\"data row7 col1\" >Amortycan Grickfitti</td>\n",
       "      <td id=\"T_0322a_row7_col2\" class=\"data row7 col2\" ><a target=\"_blank\" href=\"https://rickandmorty.fandom.com/wiki/Amortycan_Grickfitti\">https://rickandmorty.fandom.com/wiki/Amortycan_Grickfitti</a></td>\n",
       "      <td id=\"T_0322a_row7_col3\" class=\"data row7 col3\" >5</td>\n",
       "      <td id=\"T_0322a_row7_col4\" class=\"data row7 col4\" >5</td>\n",
       "      <td id=\"T_0322a_row7_col5\" class=\"data row7 col5\" >False</td>\n",
       "    </tr>\n",
       "    <tr>\n",
       "      <th id=\"T_0322a_level0_row8\" class=\"row_heading level0 row8\" >47</th>\n",
       "      <td id=\"T_0322a_row8_col0\" class=\"data row8 col0\" >50</td>\n",
       "      <td id=\"T_0322a_row8_col1\" class=\"data row8 col1\" >Gotron Jerrysis Rickvangelion</td>\n",
       "      <td id=\"T_0322a_row8_col2\" class=\"data row8 col2\" ><a target=\"_blank\" href=\"https://rickandmorty.fandom.com/wiki/Gotron_Jerrysis_Rickvangelion\">https://rickandmorty.fandom.com/wiki/Gotron_Jerrysis_Rickvangelion</a></td>\n",
       "      <td id=\"T_0322a_row8_col3\" class=\"data row8 col3\" >5</td>\n",
       "      <td id=\"T_0322a_row8_col4\" class=\"data row8 col4\" >7</td>\n",
       "      <td id=\"T_0322a_row8_col5\" class=\"data row8 col5\" >False</td>\n",
       "    </tr>\n",
       "    <tr>\n",
       "      <th id=\"T_0322a_level0_row9\" class=\"row_heading level0 row9\" >44</th>\n",
       "      <td id=\"T_0322a_row9_col0\" class=\"data row9 col0\" >51</td>\n",
       "      <td id=\"T_0322a_row9_col1\" class=\"data row9 col1\" >Rickdependence Spray</td>\n",
       "      <td id=\"T_0322a_row9_col2\" class=\"data row9 col2\" ><a target=\"_blank\" href=\"https://rickandmorty.fandom.com/wiki/Rickdependence_Spray\">https://rickandmorty.fandom.com/wiki/Rickdependence_Spray</a></td>\n",
       "      <td id=\"T_0322a_row9_col3\" class=\"data row9 col3\" >5</td>\n",
       "      <td id=\"T_0322a_row9_col4\" class=\"data row9 col4\" >4</td>\n",
       "      <td id=\"T_0322a_row9_col5\" class=\"data row9 col5\" >False</td>\n",
       "    </tr>\n",
       "  </tbody>\n",
       "</table>\n"
      ],
      "text/plain": [
       "<pandas.io.formats.style.Styler at 0x1b686f78190>"
      ]
     },
     "execution_count": 198,
     "metadata": {},
     "output_type": "execute_result"
    }
   ],
   "source": [
    "df_imdb = pd.read_csv('RaM_imdb_episodes_ranking.csv')\n",
    "df_merged = df_episodes.merge(df_imdb, on='Title', how='left')\n",
    "# get the episodes whose transcript is missing\n",
    "top_ep = df_merged[(df_merged.Season_nb_x == 5)].sort_values('rank').head(10)\n",
    "df_missing = top_ep[['rank','Title','Hyperlink','Season_nb_x','Episode_nb_x','hasTranscript']]\n",
    "df_missing.style.format(make_clickable, 'Hyperlink')"
   ]
  },
  {
   "cell_type": "markdown",
   "id": "3aeb7afe",
   "metadata": {},
   "source": [
    "## Get additional transcripts"
   ]
  },
  {
   "cell_type": "markdown",
   "id": "86ff0ba0",
   "metadata": {},
   "source": [
    "Let's gather the transcript of other episodes so that we get the top 10 of best rated episodes covered + 50% of each season to analyse the evolution of relationships.\n",
    "- Doesn't exist or not parsable : S01E07 (new lines in one character's words), S02E09 (no speaker name), SO2E07 (no speaker name), S03E08 (not complete), S03E05 (no speaker name), S03E10 (no speaker name), S03E09 (not found), ALL S04"
   ]
  },
  {
   "cell_type": "code",
   "execution_count": 165,
   "id": "aa5aa706",
   "metadata": {},
   "outputs": [],
   "source": [
    "def collect_lines(pattern_line, lines, seasonNb, episodeNb):\n",
    "    \"\"\" Input : list of string for each line / output : dataframe of lines \"\"\"\n",
    "    list_lines = []\n",
    "\n",
    "    for aLine in lines:\n",
    "        aLine = aLine.replace('\\n','')\n",
    "        match = re.findall(pattern_line, aLine)\n",
    "        for aMatch in match:\n",
    "            speaker, words = aMatch\n",
    "            list_lines.append([speaker, words])\n",
    "    # to pandas\n",
    "    df_lines = pd.DataFrame(list_lines, columns=['name','line'])\n",
    "    df_lines['season no.'],df_lines['episode no.']=[seasonNb for _ in range (len(df_lines))],[episodeNb for _ in range (len(df_lines))]\n",
    "    # add episode name\n",
    "    df_episodes = pd.read_csv('RaM_episodes.csv')\n",
    "    episode_name = df_episodes.loc[df_episodes[(df_episodes.Season_nb == seasonNb) & (df_episodes.Episode_nb == episodeNb)].index[0],'Title']\n",
    "    df_lines['episode name'] = [episode_name for _ in range (len(df_lines))]\n",
    "    return df_lines\n",
    "\n",
    "def remove_elements(aPattern, aString):\n",
    "    for element in re.findall(aPattern,aString):\n",
    "        aString = aString.replace(element,'')\n",
    "    return aString\n",
    "\n",
    "def remove_brackets_elements(aString):\n",
    "    pattern_brackets = \"\\[\\[.*?\\]\\]\"\n",
    "    return remove_elements(pattern_brackets,aString)\n",
    "\n",
    "def remove_simple_brackets_elements(aString):\n",
    "    pattern_brackets = \"\\[.*?\\]\"\n",
    "    return remove_elements(pattern_brackets,aString)\n",
    "\n",
    "def remove_parenthesis_elements(aString):\n",
    "    pattern_parenthesis = \"\\(.*?\\)\"\n",
    "    return remove_elements(pattern_parenthesis,aString)\n",
    "\n",
    "def getSeasonAndEpisodeNumbers(aString):\n",
    "    return int(aString[1:3]), int(aString[4:])\n",
    "\n",
    "def get_df_lines(anEpisodeString, pattern_line=\"(.*?) ?\\: ?(.*)\", line_separator = '\\n\\n', remove_additional = None):\n",
    "    script = open('transcripts/'+anEpisodeString+'.txt', encoding=\"utf-8\").read()\n",
    "    script = remove_brackets_elements(script)\n",
    "    script = remove_simple_brackets_elements(script)\n",
    "    script = remove_parenthesis_elements(script)\n",
    "    if remove_additional != None:\n",
    "        script = remove_elements(remove_additional, script)\n",
    "    lines = script.split(line_separator)\n",
    "    season_nb, episode_nb = getSeasonAndEpisodeNumbers(anEpisodeString)\n",
    "    df_lines = collect_lines(pattern_line,lines,season_nb, episode_nb)\n",
    "    print(list(df_lines.name.unique()))\n",
    "    return df_lines"
   ]
  },
  {
   "cell_type": "code",
   "execution_count": 111,
   "id": "dca51a56",
   "metadata": {},
   "outputs": [
    {
     "name": "stdout",
     "output_type": "stream",
     "text": [
      "['Jerry', 'Uncle Steve', 'Beth', 'Morty', 'Summer', 'Rick', 'Mr. Poopybutthole', 'Poopybutthole', 'Nicky', 'All', 'Nazi', 'Mr. Beauregard', 'Frankenstein', 'Sleepy Gary', 'Mr. Beauregard ', 'Pencilvester', 'Tinkles', 'Gary', 'Hamurai', 'Amish Cyborg', 'Gerry', 'Reverse Giraffe', 'Ghost in a Jar', 'Mrs. Refrigerator', 'Reverse', ' All', 'Duck with Muscles', 'Mrs Refrigerator', 'Cross Teddy Bear', 'Doctor']\n"
     ]
    }
   ],
   "source": [
    "episode = 'S02E04'\n",
    "df_lines = get_df_lines(episode)"
   ]
  },
  {
   "cell_type": "code",
   "execution_count": 113,
   "id": "956680ed",
   "metadata": {},
   "outputs": [
    {
     "name": "stdout",
     "output_type": "stream",
     "text": [
      "['Alien woman', 'Owl 1', 'Short alien man', 'Owl 2', 'Owl 3', 'Rick', 'Morty', 'Crow-horse', 'Two crows', 'Pussifer', 'Waiter', 'Crowscare', 'Jerry', 'Beth', 'Summer', 'Andy', 'Employee Morty', 'Toddler Morty 1', 'Toddler Morty 2', 'Twenty-Six Year Old Morty', 'Deformed Morty', 'Police Morty', 'Secret Service Rick', 'President Morty', 'Rick Stan Lee', 'Loudspeaker system', 'Rick D716', \"'Rick D716-B\", 'Orange Afro Rick', 'Orange Afro Morty', 'Female computer voice', 'Mr. Poopybutthole']\n"
     ]
    }
   ],
   "source": [
    "episode = 'S05E10'\n",
    "df_lines = get_df_lines(episode)"
   ]
  },
  {
   "cell_type": "code",
   "execution_count": 116,
   "id": "f6e819b5",
   "metadata": {},
   "outputs": [
    {
     "name": "stdout",
     "output_type": "stream",
     "text": [
      "['Beth', 'Rick', 'Jerry', 'Rick 1', 'Summer', 'Morty', 'Rick Salesman 1', 'Rick Salesman 2', 'Morty Doll', 'Rick Salseman 3', 'Rick Council 1', 'Rick crowd', 'Crowd rick', 'Armed Rick 1', 'Armed Rick 2', 'Armed Rick 3', 'Armed Ricks 4 and 5', 'Pizza 1', 'Pizza 2', 'Phone 1', 'Phone 2', 'Armed Rick 6', 'Armed Ricks', 'Sofa 1', 'Sofa 2', 'Rick 2', 'Rick 3', 'All Ricks', 'Rick 4', 'Chair waiter', 'Phone waiter', 'All ricks', 'Doofus Rick', 'Rick 1 and 2', 'Evil Rick', 'Evil Morty', 'Lobster alien', 'Religious Morty', 'All religious Mortys', 'Morty 1', 'Morty 2', 'Hammer Morty', 'All Mortys', 'Council Rick 1']\n"
     ]
    }
   ],
   "source": [
    "episode = 'S01E10'\n",
    "df_lines = get_df_lines(episode)"
   ]
  },
  {
   "cell_type": "code",
   "execution_count": 118,
   "id": "f04fe6bf",
   "metadata": {},
   "outputs": [
    {
     "name": "stdout",
     "output_type": "stream",
     "text": [
      "['Morty', 'Summer', 'Rick', 'Ship', 'Man', 'Thinner Man', 'Anchor', 'Mr.President', 'Zeep', 'Swat Officer 1', 'Swat Officer 2', 'Kid', 'Teenyverse President', 'Kyle', 'Rick, Zeep', 'Army General', 'Mr. President', 'Secretary', 'Female Visitor', 'Taxi Driver', 'Soldier', 'Human President', 'Ice cream clerk']\n"
     ]
    }
   ],
   "source": [
    "episode = 'S02E06'\n",
    "df_lines = get_df_lines(episode)"
   ]
  },
  {
   "cell_type": "code",
   "execution_count": 120,
   "id": "fd9ee7d1",
   "metadata": {},
   "outputs": [
    {
     "name": "stdout",
     "output_type": "stream",
     "text": [
      "['Rick', 'Jerry, Beth, and Summer', 'Morty', 'Beth', 'Summer', 'Jerry', 'Meeseeks', 'Meeseeks 2', 'Meeseeks 3', 'Villager', 'Meeseeks 1', 'Principal Gene V.', 'Waiter', 'Meeseeks 4', 'Giant', 'Giant woman', 'Detective', 'Judge', 'Giant Lawyer', 'NOTE', 'All the Meeseeks', 'Meeseeks *', 'Waitress', 'Slippery', 'Mr. Booby Buyer', 'Waitess', 'New Meeseeks', 'Mr. Jelly Bean', 'All other Meeseeks', 'Card Player', 'Woman', 'All Meeseeks', 'Samantha', 'Owner', 'The First Villager', 'Villager 1', 'Villager 2']\n"
     ]
    }
   ],
   "source": [
    "episode = 'S01E05'\n",
    "df_lines = get_df_lines(episode)"
   ]
  },
  {
   "cell_type": "code",
   "execution_count": 134,
   "id": "98829c5a",
   "metadata": {},
   "outputs": [
    {
     "name": "stdout",
     "output_type": "stream",
     "text": [
      "['Bachelor', 'Jerry', 'Summer', 'Beth', 'Rick', 'Morty', 'Corn Man 1', 'Corn Man 2', 'Glenn', 'Letterman', 'Woman', 'Announcer', 'Shmlony', 'Host in Trenchcoat', 'Cop', 'Killer 1', 'Judge', 'Man', 'Killer 2', 'Killer 3', 'Beth, Summer, and Jerry', 'Beth and Summer', 'Ants-In-My-Eyes Johnson', 'Johnny Depp', 'Mr. Sneezy 3D', 'Fake Doors Salesman', 'Gazorpazorpfield', 'Jon', 'Spokesman', 'Suspender Guy', 'Garbageman', 'Spokeman', 'Trunkperson', 'New Yorker', 'Mr. Tophat Jones', 'Unmuscular Michael 1', 'Muscular Mannies', 'Police Chief', 'Regular Legs', 'Baby Legs', 'Criminal ', 'Business Man', 'News Anchor', 'Hamster News Anchor', 'Female Hamster', 'Male Hamster']\n"
     ]
    }
   ],
   "source": [
    "episode = 'S01E08'\n",
    "df_lines = get_df_lines(episode)"
   ]
  },
  {
   "cell_type": "code",
   "execution_count": 141,
   "id": "0068e6cf",
   "metadata": {},
   "outputs": [
    {
     "name": "stdout",
     "output_type": "stream",
     "text": [
      "['Rick', 'Morty', 'Beth', 'Mr. Goldenfold', 'Jessica', 'Student', 'Zigerion 1', 'Prince Nebulon', 'Kevin', 'Stu', 'Jerry', 'Zigerion 2', 'Zigerion 3', 'Radio', 'Paramedic', 'Mr. Marklevitz', 'All', 'Old man', 'Woman', 'Mailman', 'Simulation Beth', 'Zigerion', 'Cynthia', 'Mailmen']\n"
     ]
    }
   ],
   "source": [
    "episode = 'S01E04'\n",
    "df_lines = get_df_lines(episode)"
   ]
  },
  {
   "cell_type": "code",
   "execution_count": 146,
   "id": "fffd2a94",
   "metadata": {},
   "outputs": [
    {
     "name": "stdout",
     "output_type": "stream",
     "text": [
      "['Summer', 'Morty', 'Rick', 'Beth', 'Jerry', 'Beth and Jerry in unison', 'Tour Guide', 'Lucy', 'Tammy', 'Brad', 'Birdperson', 'Jelly-like creature with items stuck inside of it', 'Blue alien', 'Gearhead', 'Squanchy', 'Slow Mobius', 'Voice through speaker', 'Captain #1', 'Captain #2', 'Passengers', 'Guy', 'Nancy', 'Girl', 'Abradolph Lincoler', 'Jessica', 'Everyone except Morty and Jessica', 'Jesica', 'Stereo', 'Song', 'Everyone', 'Morty and Summer in unison', 'Rick and the song', 'Shirtless guy', 'Shirtless Guy']\n"
     ]
    }
   ],
   "source": [
    "episode = 'S01E11'\n",
    "df_lines = get_df_lines(episode)"
   ]
  },
  {
   "cell_type": "code",
   "execution_count": 157,
   "id": "5508f68b",
   "metadata": {},
   "outputs": [
    {
     "name": "stdout",
     "output_type": "stream",
     "text": [
      "['Morty', 'Rick', 'Jerry', 'Beth', 'Butter robot', 'Summer', 'Goldenfold', 'Needful', 'Rick and Needful', 'Jerry and Morty', 'Flippynips', 'Vagina', 'Tate', 'Baby', 'Hostess', 'Host', 'Scroopy Noopers', 'Customer', 'Employee', 'Plutonian woman', 'Plutonian man', 'Plutonians', 'Policeman', 'Crowd']\n"
     ]
    }
   ],
   "source": [
    "episode = 'S01E09'\n",
    "df_lines = get_df_lines(episode, line_separator='\\n')"
   ]
  },
  {
   "cell_type": "code",
   "execution_count": 168,
   "id": "3feacc64",
   "metadata": {},
   "outputs": [
    {
     "name": "stdout",
     "output_type": "stream",
     "text": [
      "['Jerry', 'Beth', 'Morty', 'Summer', 'Rick', 'Ruben', 'Leonard', 'Joyce', 'Beth, Summer, and Morty', 'Jacob', 'Automated voice', 'Poncho', 'Dr. Bloom', 'Roger', 'Alexander', 'Annie', 'Animatronics', 'Ethan', 'Animatronic Ruben', 'Reporter', 'Tom', 'Eric', 'Alejandro', 'All']\n"
     ]
    }
   ],
   "source": [
    "episode = 'S01E03'\n",
    "df_lines = get_df_lines(episode, remove_additional=\"\\*.*?\\*\")"
   ]
  },
  {
   "cell_type": "code",
   "execution_count": 174,
   "id": "7281cfd0",
   "metadata": {},
   "outputs": [
    {
     "name": "stdout",
     "output_type": "stream",
     "text": [
      "['Rick', 'Morty', 'Jerry', 'Jerry-Sitter', 'Pajama Jerry', 'Underpants Jerry', 'Tuxedo Jerry', 'Receptionist', 'Krombopulos Michael', 'Roy', 'Roy’s mother', 'Teacher', 'Announcer', 'Roy’s wife', 'Doctor', 'Customer', 'Voice', 'Alien', 'Pink-shirt Jerry', 'Other Jerry', 'Daycare Beth', 'Jerrys', 'Another Jerry', 'Ship', 'Gromflomite', 'Fart', 'Gearhead', 'Random Jerry', 'Gear Anchor', 'Gear Policeman #1', 'Gear Policeman #2', 'Bearded Jerry', 'Tank-top Jerry', 'Buzzcut Jerry', 'Officer', 'Garblovian', 'Other Jerrys', 'Paul', 'Various Jerrys', 'Other Rick', 'Other Morty', 'Another Rick', 'Ricks']\n"
     ]
    }
   ],
   "source": [
    "episode = 'S02E02'\n",
    "df_lines = get_df_lines(episode, remove_additional=\"\\*.*?\\*\")"
   ]
  },
  {
   "cell_type": "code",
   "execution_count": 180,
   "id": "6018fdfd",
   "metadata": {},
   "outputs": [
    {
     "name": "stdout",
     "output_type": "stream",
     "text": [
      "['All', 'Rick', 'Morty', 'Morty and Summer', 'Summer', 'Female alien', 'Male alien 1', 'Male alien with glasses', 'All six aliens together', 'Unity', 'Beth', 'Jerry', 'Beta-7', 'Blim Blam', 'Steven Phillips', 'Ron Benson', 'Daryl Jefferson', 'Alien man', 'Rioter', 'Both', 'Beth and Jerry']\n"
     ]
    }
   ],
   "source": [
    "episode = 'S02E03'\n",
    "df_lines = get_df_lines(episode)"
   ]
  },
  {
   "cell_type": "code",
   "execution_count": 186,
   "id": "4a5d8178",
   "metadata": {},
   "outputs": [
    {
     "name": "stdout",
     "output_type": "stream",
     "text": [
      "['Girl 1', 'Girl 2', 'Jessica', 'Morty', 'Rick', 'Rick and Morty', 'Alien', 'Toxic Rick', 'Toxic Morty', 'Radio', 'Mr. Goldenfold', 'Off screen student', 'Student with glasses', 'Off screen student 2', 'Female student', 'Female student 2', 'Mitch', 'Female student looking into her mirror', 'Female Student', 'Bully', 'Waiter', 'Stacy', 'Stacey', 'Groin System 6000', 'Mrs. Pancakes', 'Summer', 'Beth', 'Priest', 'Man', 'Crying boy', 'Worker', 'Worker 2', 'Worker in a red shirt', 'Jessica on the phone', 'Jacquelyn', 'Credits song']\n"
     ]
    }
   ],
   "source": [
    "episode = 'S03E06'\n",
    "df_lines = get_df_lines(episode)"
   ]
  },
  {
   "cell_type": "code",
   "execution_count": 191,
   "id": "0e4fddfd",
   "metadata": {},
   "outputs": [
    {
     "name": "stdout",
     "output_type": "stream",
     "text": [
      "['Morty', 'Summer', 'Rick', 'Jerry', 'Beth', 'Wind', 'Mohawk Guy', 'Death Stalker #1', 'Colossus', 'Hemorrhage', 'Lunch server', 'Death Stalker #2', 'Death Stalker #3', 'Death Stalker #4', 'Eli', 'Death Stalker #5', 'Death Stalker #6', 'Blue Footprint Guy', 'Soldier', 'Death Stalker #7', 'Hemmorhage', 'Leash Man', 'Mechanical Summer', 'Mechanical Morty', 'MS, MR, and Rick, in unison', 'Slaveowner', \"Eli's Girlfriend\", 'Mechanical Rick']\n"
     ]
    }
   ],
   "source": [
    "episode = 'S03E02'\n",
    "df_lines = get_df_lines(episode, line_separator='\\n')"
   ]
  },
  {
   "cell_type": "code",
   "execution_count": 199,
   "id": "9c7114fb",
   "metadata": {},
   "outputs": [
    {
     "name": "stdout",
     "output_type": "stream",
     "text": [
      "['Beth', 'Rick', 'Morty', 'Jerry', 'Summer', 'Mr. Always Wants To Be Hunted', 'TV', 'Dracula', 'When Wolf', 'Decoy Rick', 'Decoy Jerry', 'Second Rick', 'Second Morty', 'Second Summer', 'Second Beth', 'Scarecrow Rick', 'Scarecrow Beth', 'Glockenspiel Rick', 'Glockenspiel Jerry', 'Glockenspiel Summer', 'Glockenspiel Morty', 'Glockenspiel Beth', 'Decoy Summer', 'Decoy Beth', 'Other Decoy Summer', 'Other Decoy Jerry', 'Decoy Morty', 'House', 'Steve', 'The President', 'Both Mortys', 'Space Beth', 'Woodpecker', 'Dolphin']\n"
     ]
    }
   ],
   "source": [
    "episode = 'S05E02'\n",
    "df_lines = get_df_lines(episode)"
   ]
  },
  {
   "cell_type": "code",
   "execution_count": 200,
   "id": "85d577de",
   "metadata": {},
   "outputs": [],
   "source": [
    "# to execute after obtaining df_lines (to concat with RickAndMortyScripts.csv)\n",
    "df_lines.to_csv('transcripts/script_'+episode+'.csv', index=False)\n",
    "df_all_lines = pd.read_csv(\"transcripts/RickAndMortyScripts.csv\")\n",
    "df_all_lines = pd.concat([df_all_lines, df_lines], axis=0)\n",
    "df_all_lines.to_csv(\"transcripts/RickAndMortyScripts.csv\", index=False)"
   ]
  },
  {
   "cell_type": "code",
   "execution_count": null,
   "id": "e65d778b",
   "metadata": {},
   "outputs": [],
   "source": []
  }
 ],
 "metadata": {
  "kernelspec": {
   "display_name": "Python 3 (ipykernel)",
   "language": "python",
   "name": "python3"
  },
  "language_info": {
   "codemirror_mode": {
    "name": "ipython",
    "version": 3
   },
   "file_extension": ".py",
   "mimetype": "text/x-python",
   "name": "python",
   "nbconvert_exporter": "python",
   "pygments_lexer": "ipython3",
   "version": "3.8.8"
  }
 },
 "nbformat": 4,
 "nbformat_minor": 5
}
