{
 "cells": [
  {
   "cell_type": "markdown",
   "id": "53155a51",
   "metadata": {},
   "source": [
    "#### Final Project: Rick & Morty analysis\n",
    "\n",
    "# Phase 2: Build the graph"
   ]
  },
  {
   "cell_type": "code",
   "execution_count": 31,
   "id": "f57d3fd3",
   "metadata": {},
   "outputs": [],
   "source": [
    "# imports\n",
    "import pandas as pd\n",
    "import ast\n",
    "import networkx as nx\n",
    "import matplotlib.pyplot as plt"
   ]
  },
  {
   "cell_type": "markdown",
   "id": "9fece351",
   "metadata": {},
   "source": [
    "## Download previous files"
   ]
  },
  {
   "cell_type": "code",
   "execution_count": 3,
   "id": "1f2e7429",
   "metadata": {},
   "outputs": [],
   "source": [
    "df_characters = pd.read_csv(\"RaM_characters_wRelations.csv\")"
   ]
  },
  {
   "cell_type": "code",
   "execution_count": 6,
   "id": "7d2141eb",
   "metadata": {},
   "outputs": [],
   "source": [
    "def add_node(row, aGraph):\n",
    "    \"\"\" Add the node given in row to global network \"\"\"\n",
    "    aGraph.add_node(row.Name)\n",
    "\n",
    "def add_edges(row, aGraph):\n",
    "    \"\"\" Add all edges which concern given character in row\"\"\"\n",
    "    char_name = row.Name\n",
    "    char_relations = ast.literal_eval(row.Relations)\n",
    "    for aTargetRelation in char_relations:\n",
    "        aGraph.add_edge(char_name,aTargetRelation)"
   ]
  },
  {
   "cell_type": "code",
   "execution_count": 7,
   "id": "f9b601f4",
   "metadata": {},
   "outputs": [],
   "source": [
    "# Create the associate graph with all attributes : role, race, genre, contentLength\n",
    "G = nx.DiGraph()\n",
    "_ = df_characters.apply(add_node, args=(G,), axis=1)\n",
    "_ = df_characters.apply(add_edges, args=(G,), axis=1)\n",
    "\n",
    "# Extract the Giant Connected Component, GCC\n",
    "GCC = nx.weakly_connected_components(G)\n",
    "GCC = list(GCC)\n",
    "GCC.sort(key=len)\n",
    "concerned_nodes = GCC[-1]\n",
    "\n",
    "GCC = G.subgraph(concerned_nodes).copy()\n",
    "\n",
    "# make G undirected\n",
    "GU = G.to_undirected()"
   ]
  },
  {
   "cell_type": "code",
   "execution_count": 25,
   "id": "987ad852",
   "metadata": {},
   "outputs": [
    {
     "data": {
      "text/plain": [
       "547"
      ]
     },
     "execution_count": 25,
     "metadata": {},
     "output_type": "execute_result"
    }
   ],
   "source": [
    "G.number_of_nodes()"
   ]
  },
  {
   "cell_type": "code",
   "execution_count": 28,
   "id": "bc985e42",
   "metadata": {},
   "outputs": [
    {
     "data": {
      "text/plain": [
       "2010"
      ]
     },
     "execution_count": 28,
     "metadata": {},
     "output_type": "execute_result"
    }
   ],
   "source": [
    "G.number_of_edges()"
   ]
  },
  {
   "cell_type": "code",
   "execution_count": null,
   "id": "2aed83b5",
   "metadata": {},
   "outputs": [],
   "source": []
  },
  {
   "cell_type": "code",
   "execution_count": 15,
   "id": "aa6732bb",
   "metadata": {},
   "outputs": [],
   "source": [
    "# store in and out degree\n",
    "df_characters['in_degree'] = df_characters['Name'].map(dict(G.in_degree))\n",
    "df_characters['out_degree'] = df_characters['Name'].map(dict(G.out_degree))"
   ]
  },
  {
   "cell_type": "code",
   "execution_count": 33,
   "id": "482f130b",
   "metadata": {},
   "outputs": [
    {
     "data": {
      "text/plain": [
       "(array([541.,   1.,   2.,   1.,   0.,   0.,   0.,   0.,   1.,   1.]),\n",
       " array([  0. ,  27.2,  54.4,  81.6, 108.8, 136. , 163.2, 190.4, 217.6,\n",
       "        244.8, 272. ]),\n",
       " <BarContainer object of 10 artists>)"
      ]
     },
     "execution_count": 33,
     "metadata": {},
     "output_type": "execute_result"
    },
    {
     "data": {
      "image/png": "[encoded data removed]",
      "text/plain": [
       "<Figure size 432x288 with 1 Axes>"
      ]
     },
     "metadata": {
      "needs_background": "light"
     },
     "output_type": "display_data"
    }
   ],
   "source": [
    "plt.hist(df_characters['in_degree'])"
   ]
  },
  {
   "cell_type": "code",
   "execution_count": 35,
   "id": "57cd6eb3",
   "metadata": {},
   "outputs": [
    {
     "data": {
      "text/plain": [
       "count    547.000000\n",
       "mean       3.674589\n",
       "std       16.684098\n",
       "min        0.000000\n",
       "25%        0.000000\n",
       "50%        1.000000\n",
       "75%        3.000000\n",
       "max      272.000000\n",
       "Name: in_degree, dtype: float64"
      ]
     },
     "execution_count": 35,
     "metadata": {},
     "output_type": "execute_result"
    }
   ],
   "source": [
    "df_characters['in_degree'].describe()"
   ]
  },
  {
   "cell_type": "code",
   "execution_count": 34,
   "id": "6c219348",
   "metadata": {},
   "outputs": [
    {
     "data": {
      "text/plain": [
       "(array([335., 165.,  26.,  13.,   2.,   1.,   2.,   1.,   0.,   2.]),\n",
       " array([ 0.,  4.,  8., 12., 16., 20., 24., 28., 32., 36., 40.]),\n",
       " <BarContainer object of 10 artists>)"
      ]
     },
     "execution_count": 34,
     "metadata": {},
     "output_type": "execute_result"
    },
    {
     "data": {
      "image/png": "[encoded data removed]",
      "text/plain": [
       "<Figure size 432x288 with 1 Axes>"
      ]
     },
     "metadata": {
      "needs_background": "light"
     },
     "output_type": "display_data"
    }
   ],
   "source": [
    "plt.hist(df_characters['out_degree'])"
   ]
  },
  {
   "cell_type": "code",
   "execution_count": 36,
   "id": "99d0e967",
   "metadata": {},
   "outputs": [
    {
     "data": {
      "text/plain": [
       "count    547.000000\n",
       "mean       3.674589\n",
       "std        4.031487\n",
       "min        0.000000\n",
       "25%        1.000000\n",
       "50%        3.000000\n",
       "75%        5.000000\n",
       "max       40.000000\n",
       "Name: out_degree, dtype: float64"
      ]
     },
     "execution_count": 36,
     "metadata": {},
     "output_type": "execute_result"
    }
   ],
   "source": [
    "df_characters['out_degree'].describe()"
   ]
  },
  {
   "cell_type": "code",
   "execution_count": null,
   "id": "5dedd382",
   "metadata": {},
   "outputs": [],
   "source": []
  },
  {
   "cell_type": "code",
   "execution_count": 22,
   "id": "21b7e8ee",
   "metadata": {},
   "outputs": [
    {
     "data": {
      "text/html": [
       "<div>\n",
       "<style scoped>\n",
       "    .dataframe tbody tr th:only-of-type {\n",
       "        vertical-align: middle;\n",
       "    }\n",
       "\n",
       "    .dataframe tbody tr th {\n",
       "        vertical-align: top;\n",
       "    }\n",
       "\n",
       "    .dataframe thead th {\n",
       "        text-align: right;\n",
       "    }\n",
       "</style>\n",
       "<table border=\"1\" class=\"dataframe\">\n",
       "  <thead>\n",
       "    <tr style=\"text-align: right;\">\n",
       "      <th></th>\n",
       "      <th>Name</th>\n",
       "      <th>out_degree</th>\n",
       "      <th>in_degree</th>\n",
       "    </tr>\n",
       "  </thead>\n",
       "  <tbody>\n",
       "    <tr>\n",
       "      <th>387</th>\n",
       "      <td>Rick Sanchez</td>\n",
       "      <td>40</td>\n",
       "      <td>272</td>\n",
       "    </tr>\n",
       "    <tr>\n",
       "      <th>304</th>\n",
       "      <td>Morty Smith</td>\n",
       "      <td>36</td>\n",
       "      <td>240</td>\n",
       "    </tr>\n",
       "    <tr>\n",
       "      <th>546</th>\n",
       "      <td>Jerry Smith</td>\n",
       "      <td>26</td>\n",
       "      <td>85</td>\n",
       "    </tr>\n",
       "    <tr>\n",
       "      <th>466</th>\n",
       "      <td>Summer Smith</td>\n",
       "      <td>30</td>\n",
       "      <td>73</td>\n",
       "    </tr>\n",
       "    <tr>\n",
       "      <th>42</th>\n",
       "      <td>Beth Smith</td>\n",
       "      <td>25</td>\n",
       "      <td>64</td>\n",
       "    </tr>\n",
       "    <tr>\n",
       "      <th>140</th>\n",
       "      <td>Evil Morty</td>\n",
       "      <td>8</td>\n",
       "      <td>29</td>\n",
       "    </tr>\n",
       "    <tr>\n",
       "      <th>87</th>\n",
       "      <td>Council of Ricks</td>\n",
       "      <td>14</td>\n",
       "      <td>27</td>\n",
       "    </tr>\n",
       "    <tr>\n",
       "      <th>479</th>\n",
       "      <td>Tammy Guterman</td>\n",
       "      <td>11</td>\n",
       "      <td>26</td>\n",
       "    </tr>\n",
       "    <tr>\n",
       "      <th>53</th>\n",
       "      <td>Birdperson</td>\n",
       "      <td>8</td>\n",
       "      <td>24</td>\n",
       "    </tr>\n",
       "    <tr>\n",
       "      <th>192</th>\n",
       "      <td>Gromflomites</td>\n",
       "      <td>7</td>\n",
       "      <td>23</td>\n",
       "    </tr>\n",
       "  </tbody>\n",
       "</table>\n",
       "</div>"
      ],
      "text/plain": [
       "                 Name  out_degree  in_degree\n",
       "387      Rick Sanchez          40        272\n",
       "304       Morty Smith          36        240\n",
       "546       Jerry Smith          26         85\n",
       "466      Summer Smith          30         73\n",
       "42         Beth Smith          25         64\n",
       "140        Evil Morty           8         29\n",
       "87   Council of Ricks          14         27\n",
       "479    Tammy Guterman          11         26\n",
       "53         Birdperson           8         24\n",
       "192      Gromflomites           7         23"
      ]
     },
     "execution_count": 22,
     "metadata": {},
     "output_type": "execute_result"
    }
   ],
   "source": [
    "df_characters.sort_values('in_degree',ascending=False)[['Name','out_degree','in_degree']].head(10)"
   ]
  },
  {
   "cell_type": "code",
   "execution_count": 23,
   "id": "8936c624",
   "metadata": {},
   "outputs": [
    {
     "data": {
      "text/html": [
       "<div>\n",
       "<style scoped>\n",
       "    .dataframe tbody tr th:only-of-type {\n",
       "        vertical-align: middle;\n",
       "    }\n",
       "\n",
       "    .dataframe tbody tr th {\n",
       "        vertical-align: top;\n",
       "    }\n",
       "\n",
       "    .dataframe thead th {\n",
       "        text-align: right;\n",
       "    }\n",
       "</style>\n",
       "<table border=\"1\" class=\"dataframe\">\n",
       "  <thead>\n",
       "    <tr style=\"text-align: right;\">\n",
       "      <th></th>\n",
       "      <th>Name</th>\n",
       "      <th>out_degree</th>\n",
       "      <th>in_degree</th>\n",
       "    </tr>\n",
       "  </thead>\n",
       "  <tbody>\n",
       "    <tr>\n",
       "      <th>387</th>\n",
       "      <td>Rick Sanchez</td>\n",
       "      <td>40</td>\n",
       "      <td>272</td>\n",
       "    </tr>\n",
       "    <tr>\n",
       "      <th>304</th>\n",
       "      <td>Morty Smith</td>\n",
       "      <td>36</td>\n",
       "      <td>240</td>\n",
       "    </tr>\n",
       "    <tr>\n",
       "      <th>466</th>\n",
       "      <td>Summer Smith</td>\n",
       "      <td>30</td>\n",
       "      <td>73</td>\n",
       "    </tr>\n",
       "    <tr>\n",
       "      <th>546</th>\n",
       "      <td>Jerry Smith</td>\n",
       "      <td>26</td>\n",
       "      <td>85</td>\n",
       "    </tr>\n",
       "    <tr>\n",
       "      <th>42</th>\n",
       "      <td>Beth Smith</td>\n",
       "      <td>25</td>\n",
       "      <td>64</td>\n",
       "    </tr>\n",
       "    <tr>\n",
       "      <th>291</th>\n",
       "      <td>Memory Parasites</td>\n",
       "      <td>20</td>\n",
       "      <td>16</td>\n",
       "    </tr>\n",
       "    <tr>\n",
       "      <th>469</th>\n",
       "      <td>Summer Smith (Cronenberged dimension)</td>\n",
       "      <td>19</td>\n",
       "      <td>10</td>\n",
       "    </tr>\n",
       "    <tr>\n",
       "      <th>204</th>\n",
       "      <td>Hemorrhage</td>\n",
       "      <td>18</td>\n",
       "      <td>16</td>\n",
       "    </tr>\n",
       "    <tr>\n",
       "      <th>232</th>\n",
       "      <td>Jerry Smith (Cronenberged dimension)</td>\n",
       "      <td>15</td>\n",
       "      <td>16</td>\n",
       "    </tr>\n",
       "    <tr>\n",
       "      <th>302</th>\n",
       "      <td>Morty Jr.</td>\n",
       "      <td>15</td>\n",
       "      <td>18</td>\n",
       "    </tr>\n",
       "  </tbody>\n",
       "</table>\n",
       "</div>"
      ],
      "text/plain": [
       "                                      Name  out_degree  in_degree\n",
       "387                           Rick Sanchez          40        272\n",
       "304                            Morty Smith          36        240\n",
       "466                           Summer Smith          30         73\n",
       "546                            Jerry Smith          26         85\n",
       "42                              Beth Smith          25         64\n",
       "291                       Memory Parasites          20         16\n",
       "469  Summer Smith (Cronenberged dimension)          19         10\n",
       "204                             Hemorrhage          18         16\n",
       "232   Jerry Smith (Cronenberged dimension)          15         16\n",
       "302                              Morty Jr.          15         18"
      ]
     },
     "execution_count": 23,
     "metadata": {},
     "output_type": "execute_result"
    }
   ],
   "source": [
    "df_characters.sort_values('out_degree',ascending=False)[['Name','out_degree','in_degree']].head(10)"
   ]
  },
  {
   "cell_type": "code",
   "execution_count": null,
   "id": "430752c2",
   "metadata": {},
   "outputs": [],
   "source": []
  }
 ],
 "metadata": {
  "kernelspec": {
   "display_name": "Python 3",
   "language": "python",
   "name": "python3"
  },
  "language_info": {
   "codemirror_mode": {
    "name": "ipython",
    "version": 3
   },
   "file_extension": ".py",
   "mimetype": "text/x-python",
   "name": "python",
   "nbconvert_exporter": "python",
   "pygments_lexer": "ipython3",
   "version": "3.8.8"
  }
 },
 "nbformat": 4,
 "nbformat_minor": 5
}
