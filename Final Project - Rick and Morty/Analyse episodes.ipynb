{
 "cells": [
  {
   "cell_type": "markdown",
   "id": "25dc651c",
   "metadata": {},
   "source": [
    "## Extract the synopsis and plot of each episode"
   ]
  },
  {
   "cell_type": "code",
   "execution_count": 39,
   "id": "560aed52",
   "metadata": {},
   "outputs": [],
   "source": [
    "import re\n",
    "from os import listdir\n",
    "from os.path import isfile, join\n",
    "import pandas as pd\n",
    "import numpy as np\n",
    "import codecs"
   ]
  },
  {
   "cell_type": "code",
   "execution_count": 94,
   "id": "a26d4fa0",
   "metadata": {},
   "outputs": [],
   "source": [
    "def clean_text(aText):\n",
    "    # remove [[file:<aFile>]]\n",
    "    pattern_file = \"\\[\\[file\\:.*?\\]\\]\"\n",
    "    cleanText = re.sub(pattern_file,'', aText)\n",
    "    # replace then remove [https://<link>]\n",
    "    pattern_url = \"\\[http.*? (.*?)\\]\"\n",
    "    cleanText = re.sub(pattern_url,r'\\1', cleanText)\n",
    "    cleanText = re.sub(\"\\[http.*?\\]\",'',cleanText)\n",
    "    # replace [[<aCharacter>|<infos>]] by <aCharacter>\n",
    "    pattern = \"\\[\\[(.*?)(?:\\|.*?)?\\]\\]\"\n",
    "    cleanText = re.sub(pattern,r\"\\1\", cleanText)\n",
    "    # replace remained [,]\n",
    "    cleanText = cleanText.replace('[','')\n",
    "    cleanText = cleanText.replace(']','')\n",
    "    return cleanText"
   ]
  },
  {
   "cell_type": "code",
   "execution_count": null,
   "id": "1436b969",
   "metadata": {},
   "outputs": [],
   "source": [
    "pages_path = 'episode_pages'\n",
    "all_files = [f for f in listdir(pages_path) if isfile(join(pages_path, f))]\n",
    "\n",
    "# for each episode\n",
    "all_descriptions = {}\n",
    "synopsis_header, plot_header = \"==Synopsis==\", \"==Plot==\"\n",
    "\n",
    "for aFile in all_files:\n",
    "    # Read the file containing the episode's page\n",
    "    episode_page = open(pages_path+'/'+aFile, encoding=\"utf-8\").read() \n",
    "    print('Processing... ', aFile)\n",
    "    # Replace if needed synopsis and plot headers\n",
    "    episode_page = re.sub(\"\\=\\= ?Synopsis ?\\=\\=\",\"==Synopsis==\",episode_page)\n",
    "    episode_page = re.sub(\"\\=\\= ?Plot ?\\=\\=\",\"==Plot==\",episode_page)\n",
    "    # Initialize\n",
    "    synopsis, plot = '',''\n",
    "    # Get synopsis and plot if found in page\n",
    "    if synopsis_header in episode_page:\n",
    "        synopsis = episode_page.split(synopsis_header)[1].split('==')[0]\n",
    "        print(\"   Synopsis found\")\n",
    "    if plot_header in episode_page:\n",
    "        plot = episode_page.split(plot_header)[1].split('==')[0]\n",
    "        print(\"   Plot found\")\n",
    "    # Clean synopsis and plot\n",
    "    synopsis, plot = clean_text(synopsis), clean_text(plot)\n",
    "    # Merge both texts\n",
    "    story = synopsis+plot\n",
    "    # Save it locally\n",
    "    # f = codecs.open('episode_stories/'+aFile, \"w+\", \"utf-8\")\n",
    "    # f.write(story)\n",
    "    # f.close()"
   ]
  },
  {
   "cell_type": "markdown",
   "id": "2fe6e34a",
   "metadata": {},
   "source": [
    "## Tokenization of episodes"
   ]
  },
  {
   "cell_type": "code",
   "execution_count": 98,
   "id": "f42432cf",
   "metadata": {},
   "outputs": [],
   "source": [
    "import nltk\n",
    "from nltk.tokenize import WordPunctTokenizer"
   ]
  },
  {
   "cell_type": "code",
   "execution_count": 99,
   "id": "f1863ace",
   "metadata": {},
   "outputs": [],
   "source": [
    "pages_path = 'episode_stories'\n",
    "all_files = [f for f in listdir(pages_path) if isfile(join(pages_path, f))]"
   ]
  },
  {
   "cell_type": "code",
   "execution_count": 100,
   "id": "8ba3eb62",
   "metadata": {},
   "outputs": [],
   "source": [
    "# get the stopwords list in given language\n",
    "stopwords = nltk.corpus.stopwords.words('english')\n",
    "# tokenization factory\n",
    "tk = WordPunctTokenizer()\n",
    "# lemmatization factory\n",
    "lm = nltk.WordNetLemmatizer()\n",
    "\n",
    "# for each episode story\n",
    "for aFile in all_files:\n",
    "    # Read the file containing the character's page description.\n",
    "    episode_page = open(pages_path+'/'+aFile, encoding=\"utf-8\").read() \n",
    "    # Set everything to lower case.\n",
    "    episode_page = episode_page.lower()\n",
    "    # Tokenize your text\n",
    "    episode_page = tk.tokenize(episode_page)\n",
    "    # Exclude punctuation and stop words\n",
    "    episode_page = [aToken for aToken in episode_page if aToken.isalnum() and aToken not in stopwords]\n",
    "    # Lemmatize words\n",
    "    episode_page = [ lm.lemmatize(w) for w in episode_page ]\n",
    "    # Remove words with less than 2 letters\n",
    "    episode_page = [ w for w in episode_page if len(w)>2]\n",
    "    # Transform list into list separated by spaces\n",
    "    episode_page = ''.join([str(elem)+' ' for elem in episode_page])\n",
    "    # Save your output for future use\n",
    "    # f = codecs.open('episode_tokens/'+aFile, \"w+\", \"utf-8\")\n",
    "    # f.write(episode_page)\n",
    "    # f.close()"
   ]
  },
  {
   "cell_type": "code",
   "execution_count": 126,
   "id": "f33398f6",
   "metadata": {},
   "outputs": [],
   "source": [
    "from gensim.parsing.preprocessing import STOPWORDS"
   ]
  },
  {
   "cell_type": "code",
   "execution_count": 128,
   "id": "304179fa",
   "metadata": {},
   "outputs": [
    {
     "data": {
      "text/plain": [
       "337"
      ]
     },
     "execution_count": 128,
     "metadata": {},
     "output_type": "execute_result"
    }
   ],
   "source": [
    "len(gensim.parsing.preprocessing.STOPWORDS)"
   ]
  },
  {
   "cell_type": "code",
   "execution_count": 125,
   "id": "5ea1676c",
   "metadata": {},
   "outputs": [
    {
     "data": {
      "text/plain": [
       "['i',\n",
       " 'me',\n",
       " 'my',\n",
       " 'myself',\n",
       " 'we',\n",
       " 'our',\n",
       " 'ours',\n",
       " 'ourselves',\n",
       " 'you',\n",
       " \"you're\",\n",
       " \"you've\",\n",
       " \"you'll\",\n",
       " \"you'd\",\n",
       " 'your',\n",
       " 'yours',\n",
       " 'yourself',\n",
       " 'yourselves',\n",
       " 'he',\n",
       " 'him',\n",
       " 'his',\n",
       " 'himself',\n",
       " 'she',\n",
       " \"she's\",\n",
       " 'her',\n",
       " 'hers',\n",
       " 'herself',\n",
       " 'it',\n",
       " \"it's\",\n",
       " 'its',\n",
       " 'itself',\n",
       " 'they',\n",
       " 'them',\n",
       " 'their',\n",
       " 'theirs',\n",
       " 'themselves',\n",
       " 'what',\n",
       " 'which',\n",
       " 'who',\n",
       " 'whom',\n",
       " 'this',\n",
       " 'that',\n",
       " \"that'll\",\n",
       " 'these',\n",
       " 'those',\n",
       " 'am',\n",
       " 'is',\n",
       " 'are',\n",
       " 'was',\n",
       " 'were',\n",
       " 'be',\n",
       " 'been',\n",
       " 'being',\n",
       " 'have',\n",
       " 'has',\n",
       " 'had',\n",
       " 'having',\n",
       " 'do',\n",
       " 'does',\n",
       " 'did',\n",
       " 'doing',\n",
       " 'a',\n",
       " 'an',\n",
       " 'the',\n",
       " 'and',\n",
       " 'but',\n",
       " 'if',\n",
       " 'or',\n",
       " 'because',\n",
       " 'as',\n",
       " 'until',\n",
       " 'while',\n",
       " 'of',\n",
       " 'at',\n",
       " 'by',\n",
       " 'for',\n",
       " 'with',\n",
       " 'about',\n",
       " 'against',\n",
       " 'between',\n",
       " 'into',\n",
       " 'through',\n",
       " 'during',\n",
       " 'before',\n",
       " 'after',\n",
       " 'above',\n",
       " 'below',\n",
       " 'to',\n",
       " 'from',\n",
       " 'up',\n",
       " 'down',\n",
       " 'in',\n",
       " 'out',\n",
       " 'on',\n",
       " 'off',\n",
       " 'over',\n",
       " 'under',\n",
       " 'again',\n",
       " 'further',\n",
       " 'then',\n",
       " 'once',\n",
       " 'here',\n",
       " 'there',\n",
       " 'when',\n",
       " 'where',\n",
       " 'why',\n",
       " 'how',\n",
       " 'all',\n",
       " 'any',\n",
       " 'both',\n",
       " 'each',\n",
       " 'few',\n",
       " 'more',\n",
       " 'most',\n",
       " 'other',\n",
       " 'some',\n",
       " 'such',\n",
       " 'no',\n",
       " 'nor',\n",
       " 'not',\n",
       " 'only',\n",
       " 'own',\n",
       " 'same',\n",
       " 'so',\n",
       " 'than',\n",
       " 'too',\n",
       " 'very',\n",
       " 's',\n",
       " 't',\n",
       " 'can',\n",
       " 'will',\n",
       " 'just',\n",
       " 'don',\n",
       " \"don't\",\n",
       " 'should',\n",
       " \"should've\",\n",
       " 'now',\n",
       " 'd',\n",
       " 'll',\n",
       " 'm',\n",
       " 'o',\n",
       " 're',\n",
       " 've',\n",
       " 'y',\n",
       " 'ain',\n",
       " 'aren',\n",
       " \"aren't\",\n",
       " 'couldn',\n",
       " \"couldn't\",\n",
       " 'didn',\n",
       " \"didn't\",\n",
       " 'doesn',\n",
       " \"doesn't\",\n",
       " 'hadn',\n",
       " \"hadn't\",\n",
       " 'hasn',\n",
       " \"hasn't\",\n",
       " 'haven',\n",
       " \"haven't\",\n",
       " 'isn',\n",
       " \"isn't\",\n",
       " 'ma',\n",
       " 'mightn',\n",
       " \"mightn't\",\n",
       " 'mustn',\n",
       " \"mustn't\",\n",
       " 'needn',\n",
       " \"needn't\",\n",
       " 'shan',\n",
       " \"shan't\",\n",
       " 'shouldn',\n",
       " \"shouldn't\",\n",
       " 'wasn',\n",
       " \"wasn't\",\n",
       " 'weren',\n",
       " \"weren't\",\n",
       " 'won',\n",
       " \"won't\",\n",
       " 'wouldn',\n",
       " \"wouldn't\"]"
      ]
     },
     "execution_count": 125,
     "metadata": {},
     "output_type": "execute_result"
    }
   ],
   "source": [
    "stopwords"
   ]
  },
  {
   "cell_type": "markdown",
   "id": "26ebaa02",
   "metadata": {},
   "source": [
    "# Topic Detection"
   ]
  },
  {
   "cell_type": "code",
   "execution_count": 101,
   "id": "deb90f4c",
   "metadata": {},
   "outputs": [],
   "source": [
    "import gensim\n",
    "import gensim.corpora as corpora\n",
    "from gensim.models import CoherenceModel"
   ]
  },
  {
   "cell_type": "code",
   "execution_count": 102,
   "id": "ab1529ad",
   "metadata": {},
   "outputs": [],
   "source": [
    "pages_path = 'episode_tokens'\n",
    "all_files = [f for f in listdir(pages_path) if isfile(join(pages_path, f))]\n",
    "\n",
    "# get the dictionary of tokens for each episode\n",
    "all_tokens = {}\n",
    "\n",
    "# for each episode tokens list\n",
    "for aFile in all_files:\n",
    "    # Read the file containing the tokens of the episode\n",
    "    episode_tokens = open(pages_path+'/'+aFile, encoding=\"utf-8\").read() \n",
    "    all_tokens[aFile]= episode_tokens.split(' ')"
   ]
  },
  {
   "cell_type": "code",
   "execution_count": 106,
   "id": "db74fc1a",
   "metadata": {},
   "outputs": [],
   "source": [
    "# build the dictionary id2word by using corpora.Dictionary(YOUR_LIST_OF_LISTS)\n",
    "dictionary = gensim.corpora.Dictionary(all_tokens.values())"
   ]
  },
  {
   "cell_type": "code",
   "execution_count": 107,
   "id": "a8f635ce",
   "metadata": {},
   "outputs": [],
   "source": [
    "# Filter out tokens that appear in less than 15 documents (absolute number) \n",
    "# or more than 0.5 documents (fraction of total corpus size, not absolute number).\n",
    "dictionary.filter_extremes(no_below=15, no_above=0.5)"
   ]
  },
  {
   "cell_type": "code",
   "execution_count": 112,
   "id": "ade3f5ee",
   "metadata": {},
   "outputs": [],
   "source": [
    "# how many words and how many times those words appear = bag of words\n",
    "bow_corpus = [dictionary.doc2bow(doc) for doc in all_tokens.values()]"
   ]
  },
  {
   "cell_type": "code",
   "execution_count": 124,
   "id": "7d561029",
   "metadata": {},
   "outputs": [
    {
     "name": "stdout",
     "output_type": "stream",
     "text": [
      "Word 59 (\"planet\") appears 8 time.\n",
      "Word 1 (\"also\") appears 3 time.\n",
      "Word 19 (\"life\") appears 3 time.\n",
      "Word 74 (\"rest\") appears 3 time.\n",
      "Word 83 (\"despite\") appears 3 time.\n",
      "Word 119 (\"even\") appears 3 time.\n",
      "Word 9 (\"eventually\") appears 2 time.\n",
      "Word 14 (\"gun\") appears 2 time.\n",
      "Word 21 (\"much\") appears 2 time.\n",
      "Word 37 (\"saying\") appears 2 time.\n"
     ]
    }
   ],
   "source": [
    "# get a preview\n",
    "\n",
    "bow_doc_ep = list(sorted(bow_corpus[20], reverse=True, key=lambda x:x[1]))\n",
    "for i in range(10):\n",
    "    print(\"Word {} (\\\"{}\\\") appears {} time.\".format(\n",
    "        bow_doc_ep[i][0], \n",
    "        dictionary[bow_doc_ep[i][0]], \n",
    "        bow_doc_ep[i][1])\n",
    "    )"
   ]
  },
  {
   "cell_type": "code",
   "execution_count": null,
   "id": "6008bb4e",
   "metadata": {},
   "outputs": [],
   "source": []
  }
 ],
 "metadata": {
  "kernelspec": {
   "display_name": "Python 3 (ipykernel)",
   "language": "python",
   "name": "python3"
  },
  "language_info": {
   "codemirror_mode": {
    "name": "ipython",
    "version": 3
   },
   "file_extension": ".py",
   "mimetype": "text/x-python",
   "name": "python",
   "nbconvert_exporter": "python",
   "pygments_lexer": "ipython3",
   "version": "3.8.8"
  }
 },
 "nbformat": 4,
 "nbformat_minor": 5
}
