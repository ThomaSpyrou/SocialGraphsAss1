{
 "cells": [
  {
   "cell_type": "markdown",
   "id": "aaca52c7",
   "metadata": {},
   "source": [
    "#### Final Project: Rick & Morty analysis\n",
    "\n",
    "# Phase 3: Exploring Data (Laurine)"
   ]
  },
  {
   "cell_type": "code",
   "execution_count": 1,
   "id": "889b9b04",
   "metadata": {},
   "outputs": [],
   "source": [
    "# imports\n",
    "import pandas as pd\n",
    "import ast\n",
    "import networkx as nx\n",
    "import matplotlib.pyplot as plt\n",
    "import codecs\n",
    "import numpy as np"
   ]
  },
  {
   "cell_type": "markdown",
   "id": "6482294c",
   "metadata": {},
   "source": [
    "## 1.3. Finding the “favourite words” of the Smith/Sanchez family"
   ]
  },
  {
   "attachments": {
    "image.png": {
     "image/png": "[encoded data removed]"
    }
   },
   "cell_type": "markdown",
   "id": "b1825aa9",
   "metadata": {},
   "source": [
    "**Focus on characters: Rick Sanchez, Morty Smith, Beth Smith, Jerry Smith, Summer Smith**\n",
    "\n",
    "### REPORT\n",
    "\n",
    "What the Kaggle study found: https://www.kaggle.com/andradaolteanu/sentiment-analysis-rick-and-morty-scripts (see \"most 10 words from the Smith family\" plots)\n",
    "\n",
    "#### 1st approach\n",
    "- I only used the transcript database of the Kaggle study we found on Sentiment Analysis\n",
    "- Pre-processing = lower case + exclude characters' name + NLTK tokenization + NLTK lemmatization + remove words with 2 letters or less\n",
    "\n",
    "**CCL** : \n",
    "![image.png](attachment:image.png)\n",
    "\n",
    "We clearly need more words, especially for Beth, Jerry and Summer! We identify the words from the first episode, when Beth is saving a shot deer."
   ]
  },
  {
   "cell_type": "markdown",
   "id": "5d153356",
   "metadata": {},
   "source": [
    "## Generate data files (tokens)"
   ]
  },
  {
   "cell_type": "code",
   "execution_count": 2,
   "id": "58b14f12",
   "metadata": {},
   "outputs": [
    {
     "data": {
      "text/html": [
       "<div>\n",
       "<style scoped>\n",
       "    .dataframe tbody tr th:only-of-type {\n",
       "        vertical-align: middle;\n",
       "    }\n",
       "\n",
       "    .dataframe tbody tr th {\n",
       "        vertical-align: top;\n",
       "    }\n",
       "\n",
       "    .dataframe thead th {\n",
       "        text-align: right;\n",
       "    }\n",
       "</style>\n",
       "<table border=\"1\" class=\"dataframe\">\n",
       "  <thead>\n",
       "    <tr style=\"text-align: right;\">\n",
       "      <th></th>\n",
       "      <th>season no.</th>\n",
       "      <th>episode no.</th>\n",
       "      <th>episode name</th>\n",
       "      <th>name</th>\n",
       "      <th>line</th>\n",
       "    </tr>\n",
       "  </thead>\n",
       "  <tbody>\n",
       "    <tr>\n",
       "      <th>0</th>\n",
       "      <td>1</td>\n",
       "      <td>1</td>\n",
       "      <td>Pilot</td>\n",
       "      <td>Rick</td>\n",
       "      <td>Morty! You gotta come on. Jus'... you gotta co...</td>\n",
       "    </tr>\n",
       "    <tr>\n",
       "      <th>1</th>\n",
       "      <td>1</td>\n",
       "      <td>1</td>\n",
       "      <td>Pilot</td>\n",
       "      <td>Morty</td>\n",
       "      <td>What, Rick? What’s going on?</td>\n",
       "    </tr>\n",
       "    <tr>\n",
       "      <th>2</th>\n",
       "      <td>1</td>\n",
       "      <td>1</td>\n",
       "      <td>Pilot</td>\n",
       "      <td>Rick</td>\n",
       "      <td>I got a surprise for you, Morty.</td>\n",
       "    </tr>\n",
       "    <tr>\n",
       "      <th>3</th>\n",
       "      <td>1</td>\n",
       "      <td>1</td>\n",
       "      <td>Pilot</td>\n",
       "      <td>Morty</td>\n",
       "      <td>It's the middle of the night. What are you tal...</td>\n",
       "    </tr>\n",
       "    <tr>\n",
       "      <th>4</th>\n",
       "      <td>1</td>\n",
       "      <td>1</td>\n",
       "      <td>Pilot</td>\n",
       "      <td>Rick</td>\n",
       "      <td>Come on, I got a surprise for you.  Come on, h...</td>\n",
       "    </tr>\n",
       "  </tbody>\n",
       "</table>\n",
       "</div>"
      ],
      "text/plain": [
       "   season no.  episode no. episode name   name  \\\n",
       "0           1            1        Pilot   Rick   \n",
       "1           1            1        Pilot  Morty   \n",
       "2           1            1        Pilot   Rick   \n",
       "3           1            1        Pilot  Morty   \n",
       "4           1            1        Pilot   Rick   \n",
       "\n",
       "                                                line  \n",
       "0  Morty! You gotta come on. Jus'... you gotta co...  \n",
       "1                       What, Rick? What’s going on?  \n",
       "2                   I got a surprise for you, Morty.  \n",
       "3  It's the middle of the night. What are you tal...  \n",
       "4  Come on, I got a surprise for you.  Come on, h...  "
      ]
     },
     "execution_count": 2,
     "metadata": {},
     "output_type": "execute_result"
    }
   ],
   "source": [
    "# load data\n",
    "df_transcripts = pd.read_csv('transcripts/RickAndMortyScripts.csv')\n",
    "df_transcripts.head()"
   ]
  },
  {
   "cell_type": "code",
   "execution_count": 3,
   "id": "3556ff64",
   "metadata": {},
   "outputs": [],
   "source": [
    "# create a text with lines of for each character\n",
    "\n",
    "family_list = {\n",
    "    'Rick':'Rick Sanchez',\n",
    "    'Morty':'Morty Smith',\n",
    "    'Beth':'Beth Smith',\n",
    "    'Jerry':'Jerry Smith',\n",
    "    'Summer':'Summer Smith'}\n",
    "\n",
    "dict_text = {k:\"\" for k in family_list.keys()}\n",
    "\n",
    "def add_line_to_text(aRow):\n",
    "    if aRow['name'] in family_list:\n",
    "        dict_text[aRow['name']] += (' '+str(aRow['line']))\n",
    "\n",
    "_ = df_transcripts.apply(add_line_to_text, axis=1)"
   ]
  },
  {
   "cell_type": "code",
   "execution_count": 4,
   "id": "c0371de8",
   "metadata": {},
   "outputs": [],
   "source": [
    "# save the text of each character\n",
    "for aCharacter, aString in dict_text.items():\n",
    "    f = codecs.open('character_words/'+family_list[aCharacter]+'.txt', \"w+\", \"utf-8\")\n",
    "    f.write(aString)\n",
    "    f.close()"
   ]
  },
  {
   "cell_type": "code",
   "execution_count": 5,
   "id": "e436a840",
   "metadata": {},
   "outputs": [],
   "source": [
    "from os import listdir\n",
    "from os.path import isfile, join\n",
    "\n",
    "import nltk\n",
    "from nltk.tokenize import WordPunctTokenizer"
   ]
  },
  {
   "cell_type": "code",
   "execution_count": 6,
   "id": "4c3997fb",
   "metadata": {},
   "outputs": [],
   "source": [
    "# apply the tokenization process\n",
    "\n",
    "pages_path = 'character_words'\n",
    "all_files = [f for f in listdir(pages_path) if isfile(join(pages_path, f))]"
   ]
  },
  {
   "cell_type": "code",
   "execution_count": 7,
   "id": "49aaddaf",
   "metadata": {},
   "outputs": [],
   "source": [
    "# get the stopwords list in given language\n",
    "stopwords = nltk.corpus.stopwords.words('english')\n",
    "# tokenization factory\n",
    "tk = WordPunctTokenizer()\n",
    "# lemmatization factory\n",
    "lm = nltk.WordNetLemmatizer()\n",
    "\n",
    "# for each character\n",
    "for aFile in all_files:\n",
    "    # Read the file containing the character's page description.\n",
    "    character_page = open(pages_path+'/'+aFile, encoding=\"utf-8\").read() \n",
    "    # Set everything to lower case.\n",
    "    character_page = character_page.lower()\n",
    "    # Exclude characters names, BEFORE tokenisation\n",
    "    for aCharacterName in family_list.keys():\n",
    "        character_page = character_page.replace(aCharacterName.lower(),'')\n",
    "    # Tokenize your text\n",
    "    character_page = tk.tokenize(character_page)\n",
    "    # Exclude punctuation and stop words\n",
    "    character_page = [aToken for aToken in character_page if aToken.isalnum() and aToken not in stopwords]\n",
    "    # Lemmatize words\n",
    "    character_page = [ lm.lemmatize(w) for w in character_page ]\n",
    "    # Remove words with less than 2 letters\n",
    "    character_page = [ w for w in character_page if len(w)>2]\n",
    "    # Transform list into list separated by spaces\n",
    "    character_page = ''.join([str(elem)+' ' for elem in character_page])\n",
    "    # Save your output for future use\n",
    "    f = codecs.open('character_words_tokens/'+aFile, \"w+\", \"utf-8\")\n",
    "    f.write(character_page)\n",
    "    f.close()"
   ]
  },
  {
   "cell_type": "markdown",
   "id": "4bcc232f",
   "metadata": {},
   "source": [
    "## Overview of the whole family words"
   ]
  },
  {
   "cell_type": "code",
   "execution_count": 8,
   "id": "184b58c1",
   "metadata": {},
   "outputs": [],
   "source": [
    "from nltk.corpus import PlaintextCorpusReader"
   ]
  },
  {
   "cell_type": "code",
   "execution_count": 9,
   "id": "d2384e9d",
   "metadata": {},
   "outputs": [],
   "source": [
    "# create NLTK objects: Corpus and Text\n",
    "corpus_root = 'character_words_tokens'\n",
    "familyCorpus = PlaintextCorpusReader(corpus_root, all_files)\n",
    "familyText = nltk.Text(familyCorpus.words())"
   ]
  },
  {
   "cell_type": "code",
   "execution_count": 10,
   "id": "eaa8e814",
   "metadata": {},
   "outputs": [
    {
     "data": {
      "image/png": "[encoded data removed]",
      "text/plain": [
       "<Figure size 1080x360 with 1 Axes>"
      ]
     },
     "metadata": {
      "needs_background": "light"
     },
     "output_type": "display_data"
    }
   ],
   "source": [
    "# get the freq distribution of tokens\n",
    "fdist_family = nltk.FreqDist(familyText)\n",
    "nb_words = 75\n",
    "fdist_family.most_common(nb_words)\n",
    "plt.figure(figsize=(15,5))\n",
    "plt.title(f'Frequency distribution of {nb_words} most common words said by the Smith family')\n",
    "fdist_family.plot(nb_words, cumulative=True)\n",
    "plt.show()"
   ]
  },
  {
   "cell_type": "markdown",
   "id": "cb3d54b2",
   "metadata": {},
   "source": [
    "## The favourites words of each character from the Smith family >> TC-IDF\n",
    "\n",
    "Why TC? Better to plot wordclouds later."
   ]
  },
  {
   "cell_type": "code",
   "execution_count": 11,
   "id": "d94ccdde",
   "metadata": {},
   "outputs": [],
   "source": [
    "# get one document (of tokens) per character\n",
    "char_documents = {aCharacter:nltk.Text(familyCorpus.words([aCharacter+'.txt'])) for aCharacter in family_list.values()}"
   ]
  },
  {
   "cell_type": "code",
   "execution_count": 12,
   "id": "7386dfee",
   "metadata": {},
   "outputs": [
    {
     "name": "stdout",
     "output_type": "stream",
     "text": [
      "The top 5 terms for each character is:\n",
      "\n",
      "- Rick Sanchez : ['get', 'know', 'gonna', 'right', 'like']\n",
      "- Morty Smith : ['know', 'like', 'get', 'right', 'yeah']\n",
      "- Beth Smith : ['dad', 'know', 'okay', 'like', 'want']\n",
      "- Jerry Smith : ['well', 'know', 'like', 'hey', 'guy']\n",
      "- Summer Smith : ['grandpa', 'god', 'yeah', 'like', 'dad']\n"
     ]
    }
   ],
   "source": [
    "# compute the TC of each character\n",
    "char_fdist = {aCharacter:nltk.FreqDist(aText) for aCharacter, aText in char_documents.items()}\n",
    "\n",
    "def getTC(t, aFdist):\n",
    "    \"\"\" Get the term count of a term t in a document d whose we already computed the frequency distribution aFdist\"\"\"\n",
    "    return aFdist[t]\n",
    "\n",
    "def find_top_5_terms(aText):\n",
    "    \"\"\" Find the 5 most common terms in the text \"\"\"\n",
    "    fdist = nltk.FreqDist(aText)\n",
    "    fdist = dict(fdist.most_common(5))\n",
    "    return {k:v/len(aText) for k,v in fdist.items()}\n",
    "\n",
    "# find the top 5 terms for each character based on TC\n",
    "family_top_5_terms = {aChar:find_top_5_terms(aCharText) for aChar, aCharText in char_documents.items()}\n",
    "\n",
    "# print results\n",
    "print(\"The top 5 terms for each character is:\\n\")\n",
    "for aChar, aListOfTerms in family_top_5_terms.items():\n",
    "    print(\"- {} : {}\".format(aChar, list(aListOfTerms.keys())))"
   ]
  },
  {
   "cell_type": "code",
   "execution_count": 13,
   "id": "81eb8df0",
   "metadata": {},
   "outputs": [],
   "source": [
    "# compute the IDF for every word\n",
    "def getIDF(t,D, fdist_dic):\n",
    "    \"\"\" Get the inverse document frequency of a term t among the corpus D whose we give the frequency distributions fdist_dic \"\"\"\n",
    "    N = len(D)\n",
    "    nb_texts_with_term = 1 + sum([1 if getTC(t,fdist_dic[a]) else 0 for a in list(D.keys()) ])\n",
    "    return np.log10(N/nb_texts_with_term)\n",
    "\n",
    "all_words_IDFs = {aTerm:getIDF(aTerm, char_documents, char_fdist) for aTerm in familyText}"
   ]
  },
  {
   "cell_type": "code",
   "execution_count": 14,
   "id": "59fca92c",
   "metadata": {},
   "outputs": [
    {
     "name": "stdout",
     "output_type": "stream",
     "text": [
      "The top 5 terms based on TC*IDF for each character is:\n",
      "\n",
      "- Rick Sanchez : ['sauce', 'number', 'bunch', 'season', 'piece'] (nb_tokens=2952)\n",
      "- Morty Smith : ['ohh', 'duane', 'geez', 'ohhhh', 'bawk'] (nb_tokens=1449)\n",
      "- Beth Smith : ['surgeon', 'cling', 'performing', 'surgery', 'davin'] (nb_tokens=746)\n",
      "- Jerry Smith : ['apple', 'pluto', 'tru', 'award', 'potato'] (nb_tokens=1139)\n",
      "- Summer Smith : ['drum', 'needful', 'bluffing', 'nancy', 'ethan'] (nb_tokens=792)\n"
     ]
    }
   ],
   "source": [
    "# compute TC-IDF\n",
    "def getTC_IDF(t,aFdist):\n",
    "    \"\"\" get the TC*IDF for a term t, a document d from a corpus D (here, a dictionary of Texts) \"\"\"\n",
    "    return getTC(t, aFdist) * all_words_IDFs[t]\n",
    "\n",
    "family_TC_IDF = {aChar:{aTerm:getTC_IDF(aTerm, char_fdist[aChar]) for aTerm in aText } for aChar,aText in char_documents.items() }\n",
    "family_TC_IDF_sorted = {aChar:dict(sorted(aTCIDF_dic.items(), reverse=True, key=lambda x:x[1])) for aChar, aTCIDF_dic in family_TC_IDF.items()}\n",
    "\n",
    "# print results\n",
    "print(\"The top 5 terms based on TC*IDF for each character is:\\n\")\n",
    "for aChar, aTC_IDF_dic in family_TC_IDF_sorted.items():\n",
    "    print(\"- {} : {} (nb_tokens={})\".format(aChar, list(aTC_IDF_dic)[:5], len(list(aTC_IDF_dic) )))"
   ]
  },
  {
   "cell_type": "markdown",
   "id": "c8105f7e",
   "metadata": {},
   "source": [
    "# Topic detection"
   ]
  },
  {
   "cell_type": "code",
   "execution_count": null,
   "id": "2ba02885",
   "metadata": {},
   "outputs": [],
   "source": [
    "import gensim\n",
    "import gensim.corpora as corpora\n",
    "from gensim.models import CoherenceModel"
   ]
  },
  {
   "cell_type": "code",
   "execution_count": null,
   "id": "18c3b774",
   "metadata": {},
   "outputs": [],
   "source": [
    "# create a list of lists with clean description of each character\n",
    "family_tokens_dict = {}\n",
    "\n",
    "for aName, aFullName in family_list.items():\n",
    "    character_page = open(corpus_root+'/'+aFullName+'.txt', encoding=\"utf-8\").read() \n",
    "    family_tokens_dict[aName] = character_page.split(' ')"
   ]
  },
  {
   "cell_type": "code",
   "execution_count": null,
   "id": "1db965f8",
   "metadata": {},
   "outputs": [],
   "source": [
    "# build the dictionary id2word by using corpora.Dictionary(YOUR_LIST_OF_LISTS)\n",
    "id2word = corpora.Dictionary(list(family_tokens_dict.values()))"
   ]
  },
  {
   "cell_type": "code",
   "execution_count": null,
   "id": "404ffad7",
   "metadata": {},
   "outputs": [],
   "source": [
    "# build your corpus by mapping the words in YOUR_LIST_OF_LISTS as follows id2word.doc2bow(PAGE)\n",
    "# Bag-of-words representation of the documents.\n",
    "corpus = [id2word.doc2bow(doc) for doc in list(family_tokens_dict.values())]"
   ]
  },
  {
   "cell_type": "code",
   "execution_count": null,
   "id": "d612d332",
   "metadata": {},
   "outputs": [],
   "source": [
    "# run the LDA model with input id2word and your corpus\n",
    "LDA_model_test = gensim.models.LdaMulticore(corpus=corpus, id2word=id2word, alpha=0.3)"
   ]
  },
  {
   "cell_type": "code",
   "execution_count": null,
   "id": "e43b7f94",
   "metadata": {},
   "outputs": [],
   "source": [
    "# build many LDA models with different values of number of topics 𝑁𝑡\n",
    "number_of_topics_values = [1,2,5,10,20,40]\n",
    "coherence_score_dict = {}\n",
    "\n",
    "for aNumberOfTopics in number_of_topics_values:\n",
    "    aLDAmodel = gensim.models.LdaMulticore(corpus=corpus, id2word=id2word, num_topics=aNumberOfTopics)\n",
    "    top_topics = aLDAmodel.top_topics(corpus)\n",
    "    avg_topic_coherence = sum([t[1] for t in top_topics]) / aNumberOfTopics\n",
    "    coherence_score_dict[aNumberOfTopics]=avg_topic_coherence\n",
    "    # print(\"For {} topics, we obtain a coherence score of {}\".format(aNumberOfTopics, avg_topic_coherence))\n",
    "\n",
    "# plot the coherence score\n",
    "plt.plot(coherence_score_dict.keys(), coherence_score_dict.values(), marker='o', linestyle='--')\n",
    "plt.title(\"Coherence score based on the number of topics\")\n",
    "plt.xlabel(\"Number of topics\")\n",
    "plt.ylabel(\"Avg topic coherence\")\n",
    "plt.show()"
   ]
  },
  {
   "cell_type": "code",
   "execution_count": null,
   "id": "e94ba4f6",
   "metadata": {},
   "outputs": [],
   "source": [
    "# get best model\n",
    "\n",
    "# Pick the 𝑁𝑡 that gives the highest coherence value. \n",
    "coherence_score_dict = dict(sorted(coherence_score_dict.items(), reverse=True, key=lambda x: x[1]))\n",
    "best_Nt = list(coherence_score_dict.keys())[0]\n",
    "best_coherence_score = coherence_score_dict[best_Nt]\n",
    "print(\"The best number of topics is {} which results a coherence score of {}\".format(best_Nt, best_coherence_score))\n",
    "best_LDAmodel = gensim.models.LdaMulticore(corpus=corpus, id2word=id2word, num_topics=best_Nt)"
   ]
  },
  {
   "cell_type": "code",
   "execution_count": null,
   "id": "b9f48e13",
   "metadata": {},
   "outputs": [],
   "source": [
    "best_LDAmodel.show_topics()"
   ]
  },
  {
   "cell_type": "markdown",
   "id": "3066d814",
   "metadata": {},
   "source": [
    "## Sentiment analysis of their words: how do they interact to each other? which sentiments do they express ?\n",
    "\n",
    "Use of NRC lexicon : https://saifmohammad.com/WebPages/NRC-Emotion-Lexicon.htm"
   ]
  },
  {
   "cell_type": "code",
   "execution_count": 15,
   "id": "b80458e0",
   "metadata": {},
   "outputs": [],
   "source": [
    "df_NRC = pd.read_csv('lexicons/NRC_sentiment_lexicon.csv')\n",
    "df_NRC_VAD = pd.read_csv('lexicons/NRC-VAD-Lexicon.csv')"
   ]
  },
  {
   "cell_type": "code",
   "execution_count": 16,
   "id": "6ce376d5",
   "metadata": {},
   "outputs": [],
   "source": [
    "def combine_lines(aDataFrame):\n",
    "    result = ''\n",
    "    for _, aRow in aDataFrame.iterrows():\n",
    "        result += aRow.line+' '\n",
    "    return result\n",
    "\n",
    "def get_word_tokens(aTextOfLines):\n",
    "    \"\"\" Lower + tokenization + remove punctuation \"\"\"\n",
    "    # Set to lower case\n",
    "    aTextOfLines = aTextOfLines.lower()\n",
    "    # Tokenize\n",
    "    tokens = tk.tokenize(aTextOfLines)\n",
    "    # Remove punctuation\n",
    "    tokens = [aToken for aToken in tokens if aToken.isalnum()]\n",
    "    # Lemmatize \n",
    "    tokens = [ nltk.WordNetLemmatizer().lemmatize(w) for w in tokens ]\n",
    "    return tokens\n",
    "\n",
    "def analyse_text_NRC(aText):\n",
    "    \"\"\" Get the NRC sentments + VAD scores of a given text (aText)\n",
    "    Output : dict of VAD scores / dict of sentiments scores / tokens / text\"\"\"\n",
    "    tokens = get_word_tokens(aText)\n",
    "    \n",
    "    result_sentiments_df = df_NRC[df_NRC.Word.isin(tokens)]\n",
    "    result_VAD_df = df_NRC_VAD[df_NRC_VAD.Word.isin(tokens)]\n",
    "    \n",
    "    result_sentiments_dict = result_sentiments_df.sum().drop('Word')/len(result_sentiments_df)\n",
    "    result_VAD_dict = result_VAD_df.sum().drop('Word')/len(result_VAD_df)\n",
    "    result_sentiments_dict = dict(sorted(result_sentiments_dict.items(), reverse=True, key=lambda x:x[1]))\n",
    "    result_VAD_dict = dict(sorted(result_VAD_dict.items(), reverse=True, key=lambda x:x[1]))\n",
    "    \n",
    "    return {'VAD scores':result_VAD_dict, 'sentiment scores':result_sentiments_dict, 'tokens':tokens, 'lines':aText}\n",
    "\n",
    "def analyse_interactions_NRC(source_char, target_char):\n",
    "    \"\"\" Get the NRC sentiments + VAD scores when source_char talk to target_char \"\"\"\n",
    "    text = combine_lines(df_transcripts[(df_transcripts.name==source_char) & (df_transcripts.line.str.contains(target_char))])\n",
    "    return analyse_text_NRC(text)\n",
    "\n",
    "def analyse_one_char_words(source_char):\n",
    "    \"\"\" Get the NRC sentiments + VAD scores for only source_char lines \"\"\"\n",
    "    text = combine_lines(df_transcripts[df_transcripts.name==source_char])\n",
    "    return analyse_text_NRC(text)"
   ]
  },
  {
   "cell_type": "markdown",
   "id": "d036d4d4",
   "metadata": {},
   "source": [
    "Detail of VAD score:\n",
    "- valence: from NEGATIVE/DISPLEASURE to POSITIVE/PLEASURE\n",
    "- arousal: from CALM/PASSIVE to EXCITED/ACTIVE\n",
    "- dominance: FROM WEAK/CONTROLLED to POWERFUL/CONTROL"
   ]
  },
  {
   "cell_type": "code",
   "execution_count": 17,
   "id": "766503f7",
   "metadata": {},
   "outputs": [],
   "source": [
    "source_char, target_char = 'Beth','Jerry'"
   ]
  },
  {
   "cell_type": "code",
   "execution_count": null,
   "id": "40b2ab85",
   "metadata": {},
   "outputs": [],
   "source": [
    "source_char, target_char = 'Jerry','Beth'"
   ]
  },
  {
   "cell_type": "code",
   "execution_count": 32,
   "id": "98445ea5",
   "metadata": {},
   "outputs": [],
   "source": [
    "source_char, target_char = 'Rick','Morty'"
   ]
  },
  {
   "cell_type": "code",
   "execution_count": 34,
   "id": "9488660c",
   "metadata": {},
   "outputs": [],
   "source": [
    "source_char, target_char = 'Beth','Morty'"
   ]
  },
  {
   "cell_type": "code",
   "execution_count": 35,
   "id": "555c80e2",
   "metadata": {},
   "outputs": [],
   "source": [
    "results = analyse_interactions_NRC(source_char,target_char)"
   ]
  },
  {
   "cell_type": "code",
   "execution_count": null,
   "id": "5b160088",
   "metadata": {},
   "outputs": [],
   "source": [
    "source_char, target_char = 'Rick',\"that's it\""
   ]
  },
  {
   "cell_type": "code",
   "execution_count": null,
   "id": "98fb2000",
   "metadata": {},
   "outputs": [],
   "source": [
    "source_char, target_char = 'Morty',\"that's it\""
   ]
  },
  {
   "cell_type": "code",
   "execution_count": null,
   "id": "69131e7c",
   "metadata": {},
   "outputs": [],
   "source": [
    "results = analyse_one_char_words(source_char)"
   ]
  },
  {
   "cell_type": "markdown",
   "id": "fd850ed5",
   "metadata": {},
   "source": [
    "Get results"
   ]
  },
  {
   "cell_type": "code",
   "execution_count": 37,
   "id": "415b5256",
   "metadata": {},
   "outputs": [
    {
     "data": {
      "text/plain": [
       "('Beth', 'Morty')"
      ]
     },
     "execution_count": 37,
     "metadata": {},
     "output_type": "execute_result"
    }
   ],
   "source": [
    "source_char, target_char"
   ]
  },
  {
   "cell_type": "code",
   "execution_count": 38,
   "id": "42c675b3",
   "metadata": {},
   "outputs": [
    {
     "data": {
      "text/plain": [
       "{'Valence': 0.608225,\n",
       " 'Dominance': 0.5193749999999999,\n",
       " 'Arousal': 0.45036249999999994}"
      ]
     },
     "execution_count": 38,
     "metadata": {},
     "output_type": "execute_result"
    }
   ],
   "source": [
    "results['VAD scores']"
   ]
  },
  {
   "cell_type": "code",
   "execution_count": 39,
   "id": "2471b8b4",
   "metadata": {},
   "outputs": [
    {
     "name": "stdout",
     "output_type": "stream",
     "text": [
      "['adventure', 'appreciate', 'arbitrary', 'be', 'blow', 'class', 'dad', 'discipline', 'don', 'first', 'friend', 'fully', 'fun', 'get', 'good', 'guy', 'have', 'high', 'home', 'house', 'influence', 'kiss', 'know', 'life', 'living', 'look', 'love', 'mom', 'obsession', 'practice', 'project', 'robotic', 'run', 'school', 'science', 'summer', 'superhero', 'sweetheart', 'therapy', 'think', 'time', 'will', 'work']\n"
     ]
    }
   ],
   "source": [
    "# print concerned words\n",
    "sentiment_focus = 'Dominance'\n",
    "print(list((df_NRC_VAD[(df_NRC_VAD.Word.isin(results['tokens'])) & (df_NRC_VAD[sentiment_focus]>0.5)]['Word'])))"
   ]
  },
  {
   "cell_type": "code",
   "execution_count": 40,
   "id": "44380681",
   "metadata": {},
   "outputs": [
    {
     "data": {
      "text/plain": [
       "{'Positive': 0.5416666666666666,\n",
       " 'Negative': 0.4166666666666667,\n",
       " 'Anticipation': 0.2916666666666667,\n",
       " 'Joy': 0.2916666666666667,\n",
       " 'Sadness': 0.25,\n",
       " 'Trust': 0.25,\n",
       " 'Disgust': 0.125,\n",
       " 'Fear': 0.125,\n",
       " 'Anger': 0.08333333333333333,\n",
       " 'Surprise': 0.08333333333333333}"
      ]
     },
     "execution_count": 40,
     "metadata": {},
     "output_type": "execute_result"
    }
   ],
   "source": [
    "results['sentiment scores']"
   ]
  },
  {
   "cell_type": "code",
   "execution_count": 23,
   "id": "231e0c39",
   "metadata": {},
   "outputs": [
    {
     "name": "stdout",
     "output_type": "stream",
     "text": [
      "['bear', 'bitch', 'confront', 'crazy', 'hell', 'hit', 'homeless', 'kick', 'prisoner', 'screaming', 'terrible']\n"
     ]
    }
   ],
   "source": [
    "# print concerned words\n",
    "sentiment_focus = 'Anger'\n",
    "print(list((df_NRC[(df_NRC.Word.isin(results['tokens'])) & (df_NRC[sentiment_focus])]['Word'])))"
   ]
  },
  {
   "cell_type": "code",
   "execution_count": null,
   "id": "c02bbfbc",
   "metadata": {},
   "outputs": [],
   "source": [
    "print(results['tokens'])"
   ]
  },
  {
   "cell_type": "code",
   "execution_count": 41,
   "id": "614d9c97",
   "metadata": {},
   "outputs": [
    {
     "data": {
      "text/plain": [
       "\"Morty, are you getting sick?  I told you not to practice-kiss the living room pillow. The dog sleeps on it. Look, I appreciate the stress you're under, but Morty was having trouble in school way before my dad moved in, and the only influence I can see Rick having is that, for the first time in his life, Morty has a friend. Oh, don't high-road us, dad. You know fully well that Morty is the last child that needs to be missing classes. Summer, Morty, are you okay? Hey guys, we're home.Morty & Summer Morty, we have to get going, or we're gonna be late. Where's your grandpa? Morty! Morty, Mom's talking. I'm sorry, I suppose that's a good segue into our little discipline cases here. Well, Dr. Wong -- by the way, racist name -- obviously, Morty and Summer are seizing on your arbitrary pickle obsession as an end run around what was supposed to be their therapy. Morty, you're wearing a Vindicator jacket. Are you a little superhero now? Can you please make Morty fourteen again, dad? This is ridiculous. Morty, please. I love you, sweetheart. *robotic* I’m going to work. Morty, good morning. Dad, good morning. I am going to work. Goodbye.   Hey, don't blow me off. I am drawing a line, okay? Any damage to this house or these children when we get back, and... no more adventures with Morty.   Morty, I think it will be fun for you to work on a science project with your dad. Hey Dad, where's Morty? How's school, Morty? Morty, are you okay? \""
      ]
     },
     "execution_count": 41,
     "metadata": {},
     "output_type": "execute_result"
    }
   ],
   "source": [
    "results['lines']"
   ]
  },
  {
   "cell_type": "code",
   "execution_count": 42,
   "id": "d92641c0",
   "metadata": {},
   "outputs": [],
   "source": [
    "# use VADER package\n",
    "from vaderSentiment.vaderSentiment import SentimentIntensityAnalyzer\n",
    "analyzer = SentimentIntensityAnalyzer()"
   ]
  },
  {
   "cell_type": "code",
   "execution_count": 27,
   "id": "2b93859b",
   "metadata": {},
   "outputs": [],
   "source": [
    "# generate all lexicons\n",
    "all_lexicons = {}\n",
    "for element in ['Arousal','Dominance','Valence']:\n",
    "    all_lexicons[element]= {aRow.Word:8*aRow[element]-4 for _, aRow in df_NRC_VAD[['Word',element]].iterrows()}\n",
    "for element in df_NRC.drop('Word',axis=1).columns:\n",
    "    all_lexicons[element] = {aRow.Word:8*aRow[element]-4 for _, aRow in df_NRC[['Word',element]].iterrows()}"
   ]
  },
  {
   "cell_type": "code",
   "execution_count": 43,
   "id": "f54d658e",
   "metadata": {},
   "outputs": [
    {
     "name": "stdout",
     "output_type": "stream",
     "text": [
      "For Beth to Morty\n",
      "\n",
      "Arousal: {'neg': 0.408, 'neu': 0.436, 'pos': 0.157, 'compound': -0.9982}\n",
      "Dominance: {'neg': 0.23, 'neu': 0.433, 'pos': 0.337, 'compound': 0.9942}\n",
      "Valence: {'neg': 0.152, 'neu': 0.361, 'pos': 0.487, 'compound': 0.9995}\n",
      "Positive: {'neg': 0.185, 'neu': 0.641, 'pos': 0.175, 'compound': -0.5876}\n",
      "Negative: {'neg': 0.215, 'neu': 0.641, 'pos': 0.144, 'compound': -0.9869}\n",
      "Anger: {'neg': 0.322, 'neu': 0.641, 'pos': 0.037, 'compound': -0.9991}\n",
      "Anticipation: {'neg': 0.23, 'neu': 0.641, 'pos': 0.13, 'compound': -0.9922}\n",
      "Disgust: {'neg': 0.314, 'neu': 0.641, 'pos': 0.045, 'compound': -0.999}\n",
      "Fear: {'neg': 0.324, 'neu': 0.641, 'pos': 0.036, 'compound': -0.9991}\n",
      "Joy: {'neg': 0.211, 'neu': 0.641, 'pos': 0.148, 'compound': -0.9795}\n",
      "Sadness: {'neg': 0.277, 'neu': 0.641, 'pos': 0.082, 'compound': -0.9981}\n",
      "Surprise: {'neg': 0.304, 'neu': 0.641, 'pos': 0.056, 'compound': -0.9988}\n",
      "Trust: {'neg': 0.23, 'neu': 0.641, 'pos': 0.13, 'compound': -0.9922}\n"
     ]
    }
   ],
   "source": [
    "print(\"For {} to {}\\n\".format(source_char, target_char))\n",
    "to_study=['Arousal', 'Dominance', 'Valence', 'Positive', 'Negative', 'Anger', 'Anticipation', 'Disgust', 'Fear', 'Joy', 'Sadness', 'Surprise', 'Trust']\n",
    "for aSentiment, aLexicon in all_lexicons.items():\n",
    "    analyzer = SentimentIntensityAnalyzer()\n",
    "    analyzer.lexicon = aLexicon\n",
    "    polarity_scores = analyzer.polarity_scores(results['lines'])\n",
    "    print(\"{}: {}\".format(aSentiment, polarity_scores))"
   ]
  },
  {
   "cell_type": "code",
   "execution_count": null,
   "id": "cbbcdb87",
   "metadata": {},
   "outputs": [],
   "source": []
  }
 ],
 "metadata": {
  "kernelspec": {
   "display_name": "Python 3",
   "language": "python",
   "name": "python3"
  },
  "language_info": {
   "codemirror_mode": {
    "name": "ipython",
    "version": 3
   },
   "file_extension": ".py",
   "mimetype": "text/x-python",
   "name": "python",
   "nbconvert_exporter": "python",
   "pygments_lexer": "ipython3",
   "version": "3.8.8"
  }
 },
 "nbformat": 4,
 "nbformat_minor": 5
}
