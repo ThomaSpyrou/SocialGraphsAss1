{
 "cells": [
  {
   "cell_type": "markdown",
   "id": "aaca52c7",
   "metadata": {},
   "source": [
    "#### Final Project: Rick & Morty analysis\n",
    "\n",
    "# Phase 3: Exploring Data (Laurine)"
   ]
  },
  {
   "cell_type": "code",
   "execution_count": 9,
   "id": "889b9b04",
   "metadata": {},
   "outputs": [],
   "source": [
    "# imports\n",
    "import pandas as pd\n",
    "import ast\n",
    "import networkx as nx\n",
    "import matplotlib.pyplot as plt\n",
    "import codecs\n",
    "import numpy as np"
   ]
  },
  {
   "cell_type": "markdown",
   "id": "6482294c",
   "metadata": {},
   "source": [
    "## 1.3. Finding the “favourite words” of the Smith/Sanchez family"
   ]
  },
  {
   "attachments": {
    "image.png": {
     "image/png": "[encoded data removed]"
    }
   },
   "cell_type": "markdown",
   "id": "b1825aa9",
   "metadata": {},
   "source": [
    "**Focus on characters: Rick Sanchez, Morty Smith, Beth Smith, Jerry Smith, Summer Smith**\n",
    "\n",
    "### REPORT\n",
    "\n",
    "What the Kaggle study found: https://www.kaggle.com/andradaolteanu/sentiment-analysis-rick-and-morty-scripts (see \"most 10 words from the Smith family\" plots)\n",
    "\n",
    "#### 1st approach\n",
    "- I only used the transcript database of the Kaggle study we found on Sentiment Analysis\n",
    "- Pre-processing = lower case + exclude characters' name + NLTK tokenization + NLTK lemmatization + remove words with 2 letters or less\n",
    "\n",
    "**CCL** : \n",
    "![image.png](attachment:image.png)\n",
    "\n",
    "We clearly need more words, especially for Beth, Jerry and Summer! We identify the words from the first episode, when Beth is saving a shot deer."
   ]
  },
  {
   "cell_type": "markdown",
   "id": "5d153356",
   "metadata": {},
   "source": [
    "## Generate data files (tokens)"
   ]
  },
  {
   "cell_type": "code",
   "execution_count": 62,
   "id": "58b14f12",
   "metadata": {},
   "outputs": [
    {
     "data": {
      "text/html": [
       "<div>\n",
       "<style scoped>\n",
       "    .dataframe tbody tr th:only-of-type {\n",
       "        vertical-align: middle;\n",
       "    }\n",
       "\n",
       "    .dataframe tbody tr th {\n",
       "        vertical-align: top;\n",
       "    }\n",
       "\n",
       "    .dataframe thead th {\n",
       "        text-align: right;\n",
       "    }\n",
       "</style>\n",
       "<table border=\"1\" class=\"dataframe\">\n",
       "  <thead>\n",
       "    <tr style=\"text-align: right;\">\n",
       "      <th></th>\n",
       "      <th>season no.</th>\n",
       "      <th>episode no.</th>\n",
       "      <th>episode name</th>\n",
       "      <th>name</th>\n",
       "      <th>line</th>\n",
       "    </tr>\n",
       "  </thead>\n",
       "  <tbody>\n",
       "    <tr>\n",
       "      <th>0</th>\n",
       "      <td>1</td>\n",
       "      <td>1</td>\n",
       "      <td>Pilot</td>\n",
       "      <td>Rick</td>\n",
       "      <td>Morty! You gotta come on. Jus'... you gotta co...</td>\n",
       "    </tr>\n",
       "    <tr>\n",
       "      <th>1</th>\n",
       "      <td>1</td>\n",
       "      <td>1</td>\n",
       "      <td>Pilot</td>\n",
       "      <td>Morty</td>\n",
       "      <td>What, Rick? What’s going on?</td>\n",
       "    </tr>\n",
       "    <tr>\n",
       "      <th>2</th>\n",
       "      <td>1</td>\n",
       "      <td>1</td>\n",
       "      <td>Pilot</td>\n",
       "      <td>Rick</td>\n",
       "      <td>I got a surprise for you, Morty.</td>\n",
       "    </tr>\n",
       "    <tr>\n",
       "      <th>3</th>\n",
       "      <td>1</td>\n",
       "      <td>1</td>\n",
       "      <td>Pilot</td>\n",
       "      <td>Morty</td>\n",
       "      <td>It's the middle of the night. What are you tal...</td>\n",
       "    </tr>\n",
       "    <tr>\n",
       "      <th>4</th>\n",
       "      <td>1</td>\n",
       "      <td>1</td>\n",
       "      <td>Pilot</td>\n",
       "      <td>Rick</td>\n",
       "      <td>Come on, I got a surprise for you.  Come on, h...</td>\n",
       "    </tr>\n",
       "  </tbody>\n",
       "</table>\n",
       "</div>"
      ],
      "text/plain": [
       "   season no.  episode no. episode name   name  \\\n",
       "0           1            1        Pilot   Rick   \n",
       "1           1            1        Pilot  Morty   \n",
       "2           1            1        Pilot   Rick   \n",
       "3           1            1        Pilot  Morty   \n",
       "4           1            1        Pilot   Rick   \n",
       "\n",
       "                                                line  \n",
       "0  Morty! You gotta come on. Jus'... you gotta co...  \n",
       "1                       What, Rick? What’s going on?  \n",
       "2                   I got a surprise for you, Morty.  \n",
       "3  It's the middle of the night. What are you tal...  \n",
       "4  Come on, I got a surprise for you.  Come on, h...  "
      ]
     },
     "execution_count": 62,
     "metadata": {},
     "output_type": "execute_result"
    }
   ],
   "source": [
    "# load data\n",
    "df_transcripts = pd.read_csv('transcripts/RickAndMortyScripts.csv')\n",
    "df_transcripts.head()"
   ]
  },
  {
   "cell_type": "code",
   "execution_count": 63,
   "id": "3556ff64",
   "metadata": {},
   "outputs": [],
   "source": [
    "# create a text with lines of for each character\n",
    "\n",
    "family_list = {\n",
    "    'Rick':'Rick Sanchez',\n",
    "    'Morty':'Morty Smith',\n",
    "    'Beth':'Beth Smith',\n",
    "    'Jerry':'Jerry Smith',\n",
    "    'Summer':'Summer Smith'}\n",
    "\n",
    "dict_text = {k:\"\" for k in family_list.keys()}\n",
    "\n",
    "def add_line_to_text(aRow):\n",
    "    if aRow['name'] in family_list:\n",
    "        dict_text[aRow['name']] += (' '+str(aRow['line']))\n",
    "\n",
    "_ = df_transcripts.apply(add_line_to_text, axis=1)"
   ]
  },
  {
   "cell_type": "raw",
   "id": "296cb274",
   "metadata": {},
   "source": [
    "# save the text of each character\n",
    "for aCharacter, aString in dict_text.items():\n",
    "    f = codecs.open('character_words/'+family_list[aCharacter]+'.txt', \"w+\", \"utf-8\")\n",
    "    f.write(aString)\n",
    "    f.close()"
   ]
  },
  {
   "cell_type": "code",
   "execution_count": 65,
   "id": "e436a840",
   "metadata": {},
   "outputs": [],
   "source": [
    "from os import listdir\n",
    "from os.path import isfile, join\n",
    "\n",
    "import nltk\n",
    "from nltk.tokenize import WordPunctTokenizer"
   ]
  },
  {
   "cell_type": "code",
   "execution_count": 66,
   "id": "4c3997fb",
   "metadata": {},
   "outputs": [],
   "source": [
    "# apply the tokenization process\n",
    "\n",
    "pages_path = 'character_words'\n",
    "all_files = [f for f in listdir(pages_path) if isfile(join(pages_path, f))]"
   ]
  },
  {
   "cell_type": "code",
   "execution_count": 67,
   "id": "49aaddaf",
   "metadata": {},
   "outputs": [],
   "source": [
    "# get the stopwords list in given language\n",
    "stopwords = nltk.corpus.stopwords.words('english')\n",
    "# tokenization factory\n",
    "tk = WordPunctTokenizer()\n",
    "# lemmatization factory\n",
    "lm = nltk.WordNetLemmatizer()\n",
    "\n",
    "# for each character\n",
    "for aFile in all_files:\n",
    "    # Read the file containing the character's page description.\n",
    "    character_page = open(pages_path+'/'+aFile, encoding=\"utf-8\").read() \n",
    "    # Set everything to lower case.\n",
    "    character_page = character_page.lower()\n",
    "    # Exclude characters names, BEFORE tokenisation\n",
    "    for aCharacterName in family_list.keys():\n",
    "        character_page = character_page.replace(aCharacterName.lower(),'')\n",
    "    # Tokenize your text\n",
    "    character_page = tk.tokenize(character_page)\n",
    "    # Exclude punctuation and stop words\n",
    "    character_page = [aToken for aToken in character_page if aToken.isalnum() and aToken not in stopwords]\n",
    "    # Lemmatize words\n",
    "    character_page = [ lm.lemmatize(w) for w in character_page ]\n",
    "    # Remove words with less than 2 letters\n",
    "    character_page = [ w for w in character_page if len(w)>2]\n",
    "    # Transform list into list separated by spaces\n",
    "    character_page = ''.join([str(elem)+' ' for elem in character_page])\n",
    "    # Save your output for future use\n",
    "    f = codecs.open('character_words_tokens/'+aFile, \"w+\", \"utf-8\")\n",
    "    f.write(character_page)\n",
    "    f.close()"
   ]
  },
  {
   "cell_type": "markdown",
   "id": "4bcc232f",
   "metadata": {},
   "source": [
    "## Overview of the whole family words"
   ]
  },
  {
   "cell_type": "code",
   "execution_count": 68,
   "id": "184b58c1",
   "metadata": {},
   "outputs": [],
   "source": [
    "from nltk.corpus import PlaintextCorpusReader"
   ]
  },
  {
   "cell_type": "code",
   "execution_count": 69,
   "id": "d2384e9d",
   "metadata": {},
   "outputs": [],
   "source": [
    "# create NLTK objects: Corpus and Text\n",
    "corpus_root = 'character_words_tokens'\n",
    "familyCorpus = PlaintextCorpusReader(corpus_root, all_files)\n",
    "familyText = nltk.Text(familyCorpus.words())"
   ]
  },
  {
   "cell_type": "code",
   "execution_count": 70,
   "id": "08005d2a",
   "metadata": {},
   "outputs": [
    {
     "data": {
      "text/plain": [
       "<Text: gotta come jus gotta come got surprise come...>"
      ]
     },
     "execution_count": 70,
     "metadata": {},
     "output_type": "execute_result"
    }
   ],
   "source": [
    "nltk.Text(familyCorpus.words(['Rick Sanchez.txt']))"
   ]
  },
  {
   "cell_type": "code",
   "execution_count": 71,
   "id": "eaa8e814",
   "metadata": {},
   "outputs": [
    {
     "data": {
      "image/png": "[encoded data removed]",
      "text/plain": [
       "<Figure size 1080x360 with 1 Axes>"
      ]
     },
     "metadata": {
      "needs_background": "light"
     },
     "output_type": "display_data"
    }
   ],
   "source": [
    "# get the freq distribution of tokens\n",
    "fdist_family = nltk.FreqDist(familyText)\n",
    "nb_words = 75\n",
    "fdist_family.most_common(nb_words)\n",
    "plt.figure(figsize=(15,5))\n",
    "plt.title(f'Frequency distribution of {nb_words} most common words said by the Smith family')\n",
    "fdist_family.plot(nb_words, cumulative=True)\n",
    "plt.show()"
   ]
  },
  {
   "cell_type": "markdown",
   "id": "cb3d54b2",
   "metadata": {},
   "source": [
    "## The favourites words of each character from the Smith family >> TC-IDF\n",
    "\n",
    "Why TC? Better to plot wordclouds later."
   ]
  },
  {
   "cell_type": "code",
   "execution_count": 72,
   "id": "d94ccdde",
   "metadata": {},
   "outputs": [],
   "source": [
    "# get one document (of tokens) per character\n",
    "char_documents = {aCharacter:nltk.Text(familyCorpus.words([aCharacter+'.txt'])) for aCharacter in family_list.values()}"
   ]
  },
  {
   "cell_type": "code",
   "execution_count": 73,
   "id": "7386dfee",
   "metadata": {},
   "outputs": [
    {
     "name": "stdout",
     "output_type": "stream",
     "text": [
      "The top 5 terms for each character is:\n",
      "\n",
      "- Rick Sanchez : ['get', 'gonna', 'know', 'like', 'time']\n",
      "- Morty Smith : ['know', 'like', 'get', 'man', 'right']\n",
      "- Beth Smith : ['dad', 'know', 'want', 'okay', 'like']\n",
      "- Jerry Smith : ['know', 'well', 'okay', 'look', 'thing']\n",
      "- Summer Smith : ['god', 'head', 'grandpa', 'going', 'yeah']\n"
     ]
    }
   ],
   "source": [
    "# compute the TC of each character\n",
    "char_fdist = {aCharacter:nltk.FreqDist(aText) for aCharacter, aText in char_documents.items()}\n",
    "\n",
    "def getTC(t, aFdist):\n",
    "    \"\"\" Get the term count of a term t in a document d whose we already computed the frequency distribution aFdist\"\"\"\n",
    "    return aFdist[t]\n",
    "\n",
    "def find_top_5_terms(aText):\n",
    "    \"\"\" Find the 5 most common terms in the text \"\"\"\n",
    "    fdist = nltk.FreqDist(aText)\n",
    "    fdist = dict(fdist.most_common(5))\n",
    "    return {k:v/len(aText) for k,v in fdist.items()}\n",
    "\n",
    "# find the top 5 terms for each character based on TC\n",
    "family_top_5_terms = {aChar:find_top_5_terms(aCharText) for aChar, aCharText in char_documents.items()}\n",
    "\n",
    "# print results\n",
    "print(\"The top 5 terms for each character is:\\n\")\n",
    "for aChar, aListOfTerms in family_top_5_terms.items():\n",
    "    print(\"- {} : {}\".format(aChar, list(aListOfTerms.keys())))"
   ]
  },
  {
   "cell_type": "code",
   "execution_count": 74,
   "id": "81eb8df0",
   "metadata": {},
   "outputs": [],
   "source": [
    "# compute the IDF for every word\n",
    "def getIDF(t,D, fdist_dic):\n",
    "    \"\"\" Get the inverse document frequency of a term t among the corpus D whose we give the frequency distributions fdist_dic \"\"\"\n",
    "    N = len(D)\n",
    "    nb_texts_with_term = 1 + sum([1 if getTC(t,fdist_dic[a]) else 0 for a in list(D.keys()) ])\n",
    "    return np.log10(N/nb_texts_with_term)\n",
    "\n",
    "all_words_IDFs = {aTerm:getIDF(aTerm, char_documents, char_fdist) for aTerm in familyText}"
   ]
  },
  {
   "cell_type": "code",
   "execution_count": 75,
   "id": "59fca92c",
   "metadata": {},
   "outputs": [
    {
     "name": "stdout",
     "output_type": "stream",
     "text": [
      "The top 5 terms based on TC*IDF for each character is:\n",
      "\n",
      "- Rick Sanchez : ['sauce', 'gotta', 'probably', 'seed', 'piece'] (nb_tokens=1686)\n",
      "- Morty Smith : ['geez', 'ohh', 'ohhhh', 'cut', 'birdperson'] (nb_tokens=827)\n",
      "- Beth Smith : ['deer', 'waiting', 'daughter', 'surgeon', 'scalpel'] (nb_tokens=515)\n",
      "- Jerry Smith : ['potato', 'decision', 'deer', 'based', 'outside'] (nb_tokens=595)\n",
      "- Summer Smith : ['head', 'silly', 'complete', 'bluffing', 'grampa'] (nb_tokens=384)\n"
     ]
    }
   ],
   "source": [
    "# compute TC-IDF\n",
    "def getTC_IDF(t,aFdist):\n",
    "    \"\"\" get the TC*IDF for a term t, a document d from a corpus D (here, a dictionary of Texts) \"\"\"\n",
    "    return getTC(t, aFdist) * all_words_IDFs[t]\n",
    "\n",
    "family_TC_IDF = {aChar:{aTerm:getTC_IDF(aTerm, char_fdist[aChar]) for aTerm in aText } for aChar,aText in char_documents.items() }\n",
    "family_TC_IDF_sorted = {aChar:dict(sorted(aTCIDF_dic.items(), reverse=True, key=lambda x:x[1])) for aChar, aTCIDF_dic in family_TC_IDF.items()}\n",
    "\n",
    "# print results\n",
    "print(\"The top 5 terms based on TC*IDF for each character is:\\n\")\n",
    "for aChar, aTC_IDF_dic in family_TC_IDF_sorted.items():\n",
    "    print(\"- {} : {} (nb_tokens={})\".format(aChar, list(aTC_IDF_dic)[:5], len(list(aTC_IDF_dic) )))"
   ]
  },
  {
   "cell_type": "markdown",
   "id": "bb9be67c",
   "metadata": {},
   "source": [
    "# Topic detection"
   ]
  },
  {
   "cell_type": "code",
   "execution_count": null,
   "id": "5718b96d",
   "metadata": {},
   "outputs": [],
   "source": []
  }
 ],
 "metadata": {
  "kernelspec": {
   "display_name": "Python 3",
   "language": "python",
   "name": "python3"
  },
  "language_info": {
   "codemirror_mode": {
    "name": "ipython",
    "version": 3
   },
   "file_extension": ".py",
   "mimetype": "text/x-python",
   "name": "python",
   "nbconvert_exporter": "python",
   "pygments_lexer": "ipython3",
   "version": "3.8.8"
  }
 },
 "nbformat": 4,
 "nbformat_minor": 5
}
