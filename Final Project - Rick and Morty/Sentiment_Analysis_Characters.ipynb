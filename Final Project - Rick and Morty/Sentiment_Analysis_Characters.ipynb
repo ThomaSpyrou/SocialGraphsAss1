{
 "cells": [
  {
   "cell_type": "code",
   "execution_count": 1,
   "id": "a35ca54b",
   "metadata": {},
   "outputs": [],
   "source": [
    "#!pip install -U gensim"
   ]
  },
  {
   "cell_type": "code",
   "execution_count": 2,
   "id": "e6e6ea60",
   "metadata": {},
   "outputs": [],
   "source": [
    "import pandas as pd ; import networkx as nx ; import ast ; import matplotlib.pyplot as plt ; import numpy as np ;\n",
    "import nltk ; from wordcloud import WordCloud, ImageColorGenerator ; from PIL import Image ; import urllib.request ;\n",
    "from gensim.parsing.preprocessing import remove_stopwords, STOPWORDS ; from collections import Counter"
   ]
  },
  {
   "cell_type": "code",
   "execution_count": 3,
   "id": "0d20619c",
   "metadata": {},
   "outputs": [],
   "source": [
    "df_characters = pd.read_csv(\"https://raw.githubusercontent.com/ThomaSpyrou/SocialGraphsAss1/main/Final%20Project%20-%20Rick%20and%20Morty/df_characters_with_attr_and_communities.csv\")\n",
    "df_characters = df_characters.drop('Unnamed: 0', axis=1)\n",
    "df_episodes = pd.read_csv('https://raw.githubusercontent.com/ThomaSpyrou/SocialGraphsAss1/main/Final%20Project%20-%20Rick%20and%20Morty/RaM_episodes.csv')\n",
    "df_transcripts = pd.read_csv(\"https://raw.githubusercontent.com/ThomaSpyrou/SocialGraphsAss1/main/Final%20Project%20-%20Rick%20and%20Morty/transcripts/RickAndMortyScripts.csv\")\n",
    "df_nrc = pd.read_csv(\"https://raw.githubusercontent.com/ThomaSpyrou/SocialGraphsAss1/main/Final%20Project%20-%20Rick%20and%20Morty/NRC.csv\")\n",
    "df_nrc_01 = pd.read_csv('https://raw.githubusercontent.com/ThomaSpyrou/SocialGraphsAss1/main/Final%20Project%20-%20Rick%20and%20Morty/lexicons/NRC_sentiment_lexicon.csv')"
   ]
  },
  {
   "cell_type": "code",
   "execution_count": 4,
   "id": "f38b8b82",
   "metadata": {},
   "outputs": [
    {
     "data": {
      "text/html": [
       "<div>\n",
       "<style scoped>\n",
       "    .dataframe tbody tr th:only-of-type {\n",
       "        vertical-align: middle;\n",
       "    }\n",
       "\n",
       "    .dataframe tbody tr th {\n",
       "        vertical-align: top;\n",
       "    }\n",
       "\n",
       "    .dataframe thead th {\n",
       "        text-align: right;\n",
       "    }\n",
       "</style>\n",
       "<table border=\"1\" class=\"dataframe\">\n",
       "  <thead>\n",
       "    <tr style=\"text-align: right;\">\n",
       "      <th></th>\n",
       "      <th>name</th>\n",
       "      <th>line</th>\n",
       "    </tr>\n",
       "  </thead>\n",
       "  <tbody>\n",
       "    <tr>\n",
       "      <th>0</th>\n",
       "      <td>All</td>\n",
       "      <td>That's a fake-ass catchphrase right there.</td>\n",
       "    </tr>\n",
       "    <tr>\n",
       "      <th>1</th>\n",
       "      <td>'Rick D716-B</td>\n",
       "      <td>And I’d just like to say that prescription dru...</td>\n",
       "    </tr>\n",
       "    <tr>\n",
       "      <th>2</th>\n",
       "      <td>Abradolph Lincoler</td>\n",
       "      <td>Rick, you brought me into this world, a suffer...</td>\n",
       "    </tr>\n",
       "    <tr>\n",
       "      <th>3</th>\n",
       "      <td>Agency Director</td>\n",
       "      <td>What is it?,Where is it?,We have 34 armed guar...</td>\n",
       "    </tr>\n",
       "    <tr>\n",
       "      <th>4</th>\n",
       "      <td>Alan</td>\n",
       "      <td>I wish he had the ability to check is attitude...</td>\n",
       "    </tr>\n",
       "    <tr>\n",
       "      <th>...</th>\n",
       "      <td>...</td>\n",
       "      <td>...</td>\n",
       "    </tr>\n",
       "    <tr>\n",
       "      <th>416</th>\n",
       "      <td>Zeep</td>\n",
       "      <td>I said 12 quantum stabilizers, not 11. Fix it ...</td>\n",
       "    </tr>\n",
       "    <tr>\n",
       "      <th>417</th>\n",
       "      <td>Zigerion</td>\n",
       "      <td>Sir, they're over the edge.</td>\n",
       "    </tr>\n",
       "    <tr>\n",
       "      <th>418</th>\n",
       "      <td>Zigerion 1</td>\n",
       "      <td>Oh, god, sir! They're still naked! Ugh.,I thin...</td>\n",
       "    </tr>\n",
       "    <tr>\n",
       "      <th>419</th>\n",
       "      <td>Zigerion 2</td>\n",
       "      <td>Hey, man, Abductions just follows the acquisit...</td>\n",
       "    </tr>\n",
       "    <tr>\n",
       "      <th>420</th>\n",
       "      <td>Zigerion 3</td>\n",
       "      <td>Don't put this on Acquisitions! We only acquir...</td>\n",
       "    </tr>\n",
       "  </tbody>\n",
       "</table>\n",
       "<p>421 rows × 2 columns</p>\n",
       "</div>"
      ],
      "text/plain": [
       "                   name                                               line\n",
       "0                   All         That's a fake-ass catchphrase right there.\n",
       "1          'Rick D716-B  And I’d just like to say that prescription dru...\n",
       "2    Abradolph Lincoler  Rick, you brought me into this world, a suffer...\n",
       "3       Agency Director  What is it?,Where is it?,We have 34 armed guar...\n",
       "4                  Alan  I wish he had the ability to check is attitude...\n",
       "..                  ...                                                ...\n",
       "416                Zeep  I said 12 quantum stabilizers, not 11. Fix it ...\n",
       "417            Zigerion                        Sir, they're over the edge.\n",
       "418          Zigerion 1  Oh, god, sir! They're still naked! Ugh.,I thin...\n",
       "419          Zigerion 2  Hey, man, Abductions just follows the acquisit...\n",
       "420          Zigerion 3  Don't put this on Acquisitions! We only acquir...\n",
       "\n",
       "[421 rows x 2 columns]"
      ]
     },
     "execution_count": 4,
     "metadata": {},
     "output_type": "execute_result"
    }
   ],
   "source": [
    "df_transcripts[\"name\"].replace({\"Rick\": \"Rick Sanchez\"}, inplace=True)\n",
    "df_transcripts[\"name\"].replace({\"Evil Rick\": \"Evil Rick Sanchez\"}, inplace=True)\n",
    "df_transcripts[\"name\"].replace({\"Pickle Rick\": \"Pickle Rick (character)\"}, inplace=True)\n",
    "df_transcripts[\"name\"].replace({\"Morty\": \"Morty Smith\"}, inplace=True)\n",
    "df_transcripts[\"name\"].replace({\"Beth\": \"Beth Smith\"}, inplace=True)\n",
    "df_transcripts[\"name\"].replace({\"Jerry\": \"Jerry Smith\"}, inplace=True)\n",
    "df_transcripts[\"name\"].replace({\"Summer\": \"Summer Smith\"}, inplace=True)\n",
    "\n",
    "df_charLines = df_transcripts.groupby(['name'], as_index = False).agg({'line': ','.join})\n",
    "df_charLines"
   ]
  },
  {
   "cell_type": "code",
   "execution_count": 5,
   "id": "a71004ba",
   "metadata": {},
   "outputs": [],
   "source": [
    "#Remove stopwords\n",
    "df_charLines.line = df_charLines.line.apply(lambda x: remove_stopwords(x))"
   ]
  },
  {
   "cell_type": "code",
   "execution_count": 6,
   "id": "57fb917b",
   "metadata": {},
   "outputs": [],
   "source": [
    "# Save as a csv\n",
    "#df_charLines.to_csv('df_char_lines.csv', index=False)"
   ]
  },
  {
   "cell_type": "code",
   "execution_count": 7,
   "id": "9ed79a3c",
   "metadata": {},
   "outputs": [],
   "source": [
    "characters_dialogue = df_charLines.set_index('name').T.to_dict('list') "
   ]
  },
  {
   "cell_type": "markdown",
   "id": "e98667e1",
   "metadata": {},
   "source": [
    "## NRC"
   ]
  },
  {
   "cell_type": "code",
   "execution_count": 8,
   "id": "cfa7bc47",
   "metadata": {},
   "outputs": [],
   "source": [
    "from nltk.tokenize import RegexpTokenizer\n",
    "\n",
    "def get_list_of_tokens(aSentence):\n",
    "    \"\"\" Transform a sentence (string) into a list of tokens \"\"\"\n",
    "    # Set to lower case\n",
    "    aSentence = aSentence.lower()\n",
    "    # Tokenize\n",
    "    tokens = RegexpTokenizer(r'\\w+').tokenize(aSentence)\n",
    "    # Lemmatize words\n",
    "    tokens = [ nltk.WordNetLemmatizer().lemmatize(w) for w in tokens ]\n",
    "    return tokens\n",
    "\n",
    "\n",
    "\n",
    "def get_nrc_sentiment(aWord):\n",
    "    \"\"\" Get the happiness average of a word from LabMT dictionary \"\"\"\n",
    "    #print(aWord)\n",
    "    if (aWord in list(df_nrc.word)):\n",
    "        sentiment = list(df_nrc.sentiment[df_nrc.word == aWord])\n",
    "    else:    \n",
    "        sentiment = []\n",
    "    return sentiment    \n",
    "\n",
    "def flatten(t):\n",
    "    return [item for sublist in t for item in sublist]\n",
    "\n",
    "def calculate_nrc_sentiments(aListOfTokens):\n",
    "    \"\"\" Calculate the sentiments a list of tokens \"\"\"\n",
    "    sentiment_list = []\n",
    "    if aListOfTokens != []:\n",
    "        for aToken in aListOfTokens:\n",
    "            sentiment = get_nrc_sentiment(aToken)\n",
    "#            if sentiment != []:\n",
    "#                sentiment_list.append(sentiment)    \n",
    "            sentiment_list.extend(sentiment) \n",
    "    return Counter(sentiment_list)\n"
   ]
  },
  {
   "cell_type": "code",
   "execution_count": 9,
   "id": "bad544a5",
   "metadata": {},
   "outputs": [],
   "source": [
    "# calculate the NRC sentiment score for each character\n",
    "\n",
    "sentiment_NRC_list = []\n",
    "\n",
    "def calculate_NRC_sentiment_of_a_node(aRow):\n",
    "    if aRow.Name in list(characters_dialogue.keys()):\n",
    "        sentiment_NRC_list.append([calculate_nrc_sentiments(get_list_of_tokens(aSentence)) for aSentence in characters_dialogue[aRow.Name]])\n",
    "    else:\n",
    "        sentiment_NRC_list.append(None)\n",
    "\n",
    "\n",
    "\n",
    "_ = df_characters.apply(calculate_NRC_sentiment_of_a_node, axis=1)\n",
    "\n",
    "# store in dataframe of characters as a new column\n",
    "df_characters['NRC_score'] = sentiment_NRC_list\n",
    "df_NRC = df_characters[df_characters.NRC_score.notnull()]"
   ]
  },
  {
   "cell_type": "code",
   "execution_count": 10,
   "id": "0ca1f27d",
   "metadata": {},
   "outputs": [],
   "source": [
    "# pd.set_option('display.max_rows', 550)\n",
    "# df_NRC.count()"
   ]
  },
  {
   "cell_type": "markdown",
   "id": "f59f7603",
   "metadata": {},
   "source": [
    "### Sentiments per Character"
   ]
  },
  {
   "cell_type": "code",
   "execution_count": 11,
   "id": "a48eb378",
   "metadata": {},
   "outputs": [],
   "source": [
    "def sort_dict(d):\n",
    "    return {k: v for k, v in sorted(d.items(), key=lambda item: item[1], reverse = True)}\n",
    "\n",
    "#d_Rick = sort_dict(df_NRC[df_NRC.Name == 'Rick Sanchez']['NRC_score'].tolist()[0][0])\n",
    "\n",
    "\n",
    "\n",
    "def plot_character_sentiments(name):\n",
    "    \n",
    "    d = sort_dict(df_NRC[df_NRC.Name == name]['NRC_score'].tolist()[0][0])\n",
    "    \n",
    "    fig, ax = plt.subplots()\n",
    "    sentiments = list(d.keys())\n",
    "    y_pos = sentiments\n",
    "    weight = list(d.values())\n",
    "    ax.barh(y_pos, weight, align='center')\n",
    "    ax.set_yticks(y_pos)   #, labels=sentiments\n",
    "    ax.invert_yaxis()  # labels read top-to-bottom\n",
    "    ax.set_xlabel('Weight')\n",
    "    ax.set_title('Sentiment Analysis: ' + name)\n",
    "    plt.show()"
   ]
  },
  {
   "cell_type": "code",
   "execution_count": 12,
   "id": "99980962",
   "metadata": {},
   "outputs": [
    {
     "data": {
      "image/png": "[encoded data removed]",
      "text/plain": [
       "<Figure size 432x288 with 1 Axes>"
      ]
     },
     "metadata": {
      "needs_background": "light"
     },
     "output_type": "display_data"
    },
    {
     "data": {
      "image/png": "[encoded data removed]",
      "text/plain": [
       "<Figure size 432x288 with 1 Axes>"
      ]
     },
     "metadata": {
      "needs_background": "light"
     },
     "output_type": "display_data"
    }
   ],
   "source": [
    "plot_character_sentiments('Rick Sanchez'), \n",
    "plot_character_sentiments('Morty Smith')"
   ]
  },
  {
   "cell_type": "code",
   "execution_count": 13,
   "id": "1deef623",
   "metadata": {},
   "outputs": [
    {
     "data": {
      "image/png": "[encoded data removed]",
      "text/plain": [
       "<Figure size 432x288 with 1 Axes>"
      ]
     },
     "metadata": {
      "needs_background": "light"
     },
     "output_type": "display_data"
    },
    {
     "data": {
      "image/png": "[encoded data removed]",
      "text/plain": [
       "<Figure size 432x288 with 1 Axes>"
      ]
     },
     "metadata": {
      "needs_background": "light"
     },
     "output_type": "display_data"
    },
    {
     "data": {
      "image/png": "[encoded data removed]",
      "text/plain": [
       "<Figure size 432x288 with 1 Axes>"
      ]
     },
     "metadata": {
      "needs_background": "light"
     },
     "output_type": "display_data"
    },
    {
     "data": {
      "image/png": "[encoded data removed]",
      "text/plain": [
       "<Figure size 432x288 with 1 Axes>"
      ]
     },
     "metadata": {
      "needs_background": "light"
     },
     "output_type": "display_data"
    },
    {
     "data": {
      "image/png": "[encoded data removed]",
      "text/plain": [
       "<Figure size 432x288 with 1 Axes>"
      ]
     },
     "metadata": {
      "needs_background": "light"
     },
     "output_type": "display_data"
    }
   ],
   "source": [
    "plot_character_sentiments('Evil Rick Sanchez'), \n",
    "plot_character_sentiments('Toxic Rick'),\n",
    "plot_character_sentiments('Toxic Morty'),\n",
    "plot_character_sentiments('Doofus Rick'),\n",
    "plot_character_sentiments('Jerry Smith')"
   ]
  },
  {
   "cell_type": "markdown",
   "id": "af1a2839",
   "metadata": {},
   "source": [
    "### Histogram per sentiment"
   ]
  },
  {
   "cell_type": "code",
   "execution_count": 14,
   "id": "66fef15d",
   "metadata": {},
   "outputs": [],
   "source": [
    "sentiments_list = ['positive', 'negative', 'trust', 'anticipation', 'fear', 'joy', 'anger', 'disgust', 'sadness', 'surprise']\n",
    "\n",
    "# for sentiment in sentiments_list:\n",
    "#     count = \n",
    "\n",
    "# x = df_NRC[['NRC_score']].apply(lambda x: )\n",
    "\n",
    "\n",
    "# plt.hist(df_LabMT.LabMT_score)\n",
    "# plt.title(\"Anger in Rick and Morty\")\n",
    "# plt.xlabel(\"LabMT sentiment score\")\n",
    "# plt.ylabel(\"Count of characters\")\n",
    "\n",
    "\n",
    "####   I want to make a histogram with the sentiments and theis count in all dialogues "
   ]
  },
  {
   "cell_type": "code",
   "execution_count": null,
   "id": "f7eed73f",
   "metadata": {},
   "outputs": [],
   "source": []
  },
  {
   "cell_type": "markdown",
   "id": "98dc2d33",
   "metadata": {},
   "source": [
    "### LabMT method"
   ]
  },
  {
   "cell_type": "code",
   "execution_count": 15,
   "id": "0debcb2a",
   "metadata": {},
   "outputs": [],
   "source": [
    "url_LabMT = \"https://raw.githubusercontent.com/ThomaSpyrou/SocialGraphsAss1/main/Final%20Project%20-%20Rick%20and%20Morty/dataset_LabMT\"\n",
    "\n",
    "LabMT = urllib.request.urlopen(url_LabMT).read().decode('utf-8')\n",
    "# remove the useless start of the text\n",
    "LabMT = LabMT[172:]\n",
    "# process text file for dictionary conversion\n",
    "LabMT = LabMT.split('\\n')\n",
    "LabMT = [aList.split('\\t') for aList in LabMT]\n",
    "# create LabMT dictionary\n",
    "LabMT_dict = {}\n",
    "for aList in LabMT:\n",
    "    if len(aList) == 8:\n",
    "        aWord = aList[0]\n",
    "        # we only take \"happiness_average\" in account here\n",
    "        aHappinessAvg = float(aList[2])\n",
    "        LabMT_dict[aWord]=aHappinessAvg"
   ]
  },
  {
   "cell_type": "code",
   "execution_count": 16,
   "id": "3c948a86",
   "metadata": {},
   "outputs": [],
   "source": [
    "def get_list_of_tokens(aSentence):\n",
    "    \"\"\" Transform a sentence (string) into a list of tokens \"\"\"\n",
    "    # Set to lower case\n",
    "    aSentence = aSentence.lower()\n",
    "    # Tokenize\n",
    "    tokens = RegexpTokenizer(r'\\w+').tokenize(aSentence)\n",
    "    # Lemmatize words\n",
    "    tokens = [ nltk.WordNetLemmatizer().lemmatize(w) for w in tokens ]\n",
    "    return tokens\n",
    "\n",
    "def get_happiness_average(aWord):\n",
    "    \"\"\" Get the happiness average of a word from LabMT dictionary \"\"\"\n",
    "    if aWord in list(LabMT_dict.keys()) :\n",
    "        return LabMT_dict[aWord]\n",
    "    return None\n",
    "\n",
    "def calculate_LabMT_sentiment(aListOfTokens):\n",
    "    \"\"\" Calculate the sentiment score of a list of tokens \"\"\"\n",
    "    sentiment_score = 0\n",
    "    if aListOfTokens != []:\n",
    "        for aToken in aListOfTokens:\n",
    "            anHapinessAvg = get_happiness_average(aToken)\n",
    "            if anHapinessAvg != None:\n",
    "                sentiment_score += anHapinessAvg\n",
    "        return sentiment_score/len(aListOfTokens)\n",
    "    return sentiment_score"
   ]
  },
  {
   "cell_type": "code",
   "execution_count": 17,
   "id": "f5f22634",
   "metadata": {},
   "outputs": [],
   "source": [
    "# calculate the LabMT sentiment score for each character\n",
    "\n",
    "sentiment_LabMT_score_list = []\n",
    "\n",
    "def calculate_LabMT_sentiment_of_a_node(aRow):\n",
    "    if aRow.Name in list(characters_dialogue.keys()):\n",
    "        sentiment_LabMT_score_list.append(np.mean([calculate_LabMT_sentiment(get_list_of_tokens(aSentence)) for aSentence in characters_dialogue[aRow.Name]]))\n",
    "    else:\n",
    "        sentiment_LabMT_score_list.append(None)\n",
    "\n",
    "_ = df_characters.apply(calculate_LabMT_sentiment_of_a_node, axis=1)"
   ]
  },
  {
   "cell_type": "code",
   "execution_count": 18,
   "id": "53b5cdab",
   "metadata": {},
   "outputs": [],
   "source": [
    "# store in dataframe of characters as a new column\n",
    "df_characters['LabMT_score']=sentiment_LabMT_score_list\n",
    "df_LabMT = df_characters[df_characters.LabMT_score.notnull()]"
   ]
  },
  {
   "cell_type": "markdown",
   "id": "c3d6d908",
   "metadata": {},
   "source": [
    "### VADER Method"
   ]
  },
  {
   "cell_type": "code",
   "execution_count": 19,
   "id": "aac3f50b",
   "metadata": {},
   "outputs": [],
   "source": [
    "from vaderSentiment.vaderSentiment import SentimentIntensityAnalyzer\n",
    "\n",
    "# calculate the VADER sentiment score for each character\n",
    "\n",
    "analyzer = SentimentIntensityAnalyzer()\n",
    "\n",
    "vader_score_list = []\n",
    "\n",
    "def calculate_VADER_of_a_node(aRow):\n",
    "    if aRow.Name in list(characters_dialogue.keys()):\n",
    "        vader_score_list.append(np.mean([analyzer.polarity_scores(aSentence)['compound'] for aSentence in characters_dialogue[aRow.Name]]))\n",
    "    else:\n",
    "        vader_score_list.append(None)\n",
    "\n",
    "_ = df_characters.apply(calculate_VADER_of_a_node, axis=1)"
   ]
  },
  {
   "cell_type": "code",
   "execution_count": 20,
   "id": "2dc50864",
   "metadata": {},
   "outputs": [],
   "source": [
    "# store in dataframe of characters as a new column\n",
    "df_characters['VADER_score']=vader_score_list\n",
    "df_VADER = df_characters[df_characters.VADER_score.notnull()]"
   ]
  },
  {
   "cell_type": "code",
   "execution_count": 21,
   "id": "6e40ebdc",
   "metadata": {},
   "outputs": [
    {
     "data": {
      "image/png": "[encoded data removed]",
      "text/plain": [
       "<Figure size 1440x360 with 2 Axes>"
      ]
     },
     "metadata": {
      "needs_background": "light"
     },
     "output_type": "display_data"
    }
   ],
   "source": [
    "plt.figure(figsize=(20,5))\n",
    "\n",
    "plt.subplot(121)\n",
    "plt.hist(df_LabMT.LabMT_score)\n",
    "plt.title(\"Histogram of all character's associated sentiments with LabMT score\")\n",
    "plt.xlabel(\"LabMT sentiment score\")\n",
    "plt.ylabel(\"Count of characters\")\n",
    "\n",
    "plt.subplot(122)\n",
    "plt.hist(df_VADER.VADER_score)\n",
    "plt.title(\"Histogram of all character's associated sentiments with VADER score\")\n",
    "plt.xlabel(\"VADER sentiment score\")\n",
    "plt.ylabel(\"Count of characters\")\n",
    "plt.show()"
   ]
  },
  {
   "cell_type": "markdown",
   "id": "2416cfcf",
   "metadata": {},
   "source": [
    "df_transcripts"
   ]
  },
  {
   "cell_type": "code",
   "execution_count": 22,
   "id": "ea767ab7",
   "metadata": {},
   "outputs": [],
   "source": [
    "def print_characters_with_score(a10DataFrame, typeOfScore):\n",
    "    i=1\n",
    "    for index, row in a10DataFrame.iterrows():\n",
    "        print(\"{}. {} ({})\".format(i, row.Name, round(row[typeOfScore],2)))\n",
    "        i+=1"
   ]
  },
  {
   "cell_type": "code",
   "execution_count": 23,
   "id": "48ae1da1",
   "metadata": {},
   "outputs": [
    {
     "name": "stdout",
     "output_type": "stream",
     "text": [
      "10 happiest characters with LabMT method are:\n",
      "1. Mechanical Rick (6.22)\n",
      "2. Ruben (6.15)\n",
      "3. Steven Phillips (6.11)\n",
      "4. Johnny Depp (5.96)\n",
      "5. Mechanical Summer (5.93)\n",
      "6. Baby Legs (5.77)\n",
      "7. Ethan (5.73)\n",
      "8. Regular Legs (5.73)\n",
      "9. Slow Mobius (5.68)\n",
      "10. Tinkles (5.63)\n",
      "\n",
      "10 happiest characters with VADER method are:\n",
      "1. Jerry Smith (1.0)\n",
      "2. Rick Sanchez (1.0)\n",
      "3. Morty Smith (1.0)\n",
      "4. Beth Smith (1.0)\n",
      "5. Principal Vagina (1.0)\n",
      "6. Summer Smith (1.0)\n",
      "7. Doofus Rick (1.0)\n",
      "8. Unity (0.99)\n",
      "9. Mr. Goldenfold (0.99)\n",
      "10. Mechanical Morty (0.99)\n",
      "\n",
      "10 saddest characters with LabMT method are:\n",
      "1. Pussifer (3.03)\n",
      "2. Mr. Booby Buyer (3.78)\n",
      "3. Cynthia (3.98)\n",
      "4. Colossus (3.99)\n",
      "5. Evil Morty (4.0)\n",
      "6. Alexander (4.06)\n",
      "7. Roy (4.19)\n",
      "8. Kevin (4.42)\n",
      "9. Squanchy (4.47)\n",
      "10. Riq IV (4.56)\n",
      "\n",
      "10 saddest characters with VADER method are:\n",
      "1. Toxic Rick (-1.0)\n",
      "2. Toxic Morty (-0.98)\n",
      "3. Evil Rick Sanchez (-0.97)\n",
      "4. Scary Terry (-0.94)\n",
      "5. Kyle (-0.91)\n",
      "6. The President (-0.9)\n",
      "7. Blim Blam (-0.82)\n",
      "8. Ron Benson (-0.74)\n",
      "9. Krombopulos Michael (-0.69)\n",
      "10. Kevin (-0.69)\n"
     ]
    }
   ],
   "source": [
    "ten_happiest_characters_LabMT = df_LabMT.sort_values('LabMT_score', ascending=False).head(10)\n",
    "ten_saddest_characters_LabMT = df_LabMT.sort_values('LabMT_score', ascending=True).head(10)\n",
    "\n",
    "ten_happiest_characters_VADER = df_VADER.sort_values('VADER_score', ascending=False).head(10)\n",
    "ten_saddest_characters_VADER = df_VADER.sort_values('VADER_score', ascending=True).head(10)\n",
    "\n",
    "print(\"10 happiest characters with LabMT method are:\")\n",
    "print_characters_with_score(ten_happiest_characters_LabMT, 'LabMT_score' )\n",
    "print(\"\\n10 happiest characters with VADER method are:\")\n",
    "print_characters_with_score(ten_happiest_characters_VADER, 'VADER_score' )\n",
    "print(\"\\n10 saddest characters with LabMT method are:\")\n",
    "print_characters_with_score(ten_saddest_characters_LabMT, 'LabMT_score')\n",
    "print(\"\\n10 saddest characters with VADER method are:\")\n",
    "print_characters_with_score(ten_saddest_characters_VADER, 'VADER_score')"
   ]
  },
  {
   "cell_type": "code",
   "execution_count": null,
   "id": "4d5667e4",
   "metadata": {},
   "outputs": [],
   "source": []
  },
  {
   "cell_type": "code",
   "execution_count": null,
   "id": "0490b5d7",
   "metadata": {},
   "outputs": [],
   "source": []
  },
  {
   "cell_type": "code",
   "execution_count": null,
   "id": "7b4222c9",
   "metadata": {},
   "outputs": [],
   "source": []
  },
  {
   "cell_type": "code",
   "execution_count": null,
   "id": "de321717",
   "metadata": {},
   "outputs": [],
   "source": []
  },
  {
   "cell_type": "code",
   "execution_count": null,
   "id": "21ef5895",
   "metadata": {},
   "outputs": [],
   "source": []
  },
  {
   "cell_type": "code",
   "execution_count": null,
   "id": "fc2e0e64",
   "metadata": {},
   "outputs": [],
   "source": []
  },
  {
   "cell_type": "code",
   "execution_count": 24,
   "id": "a3fc26b0",
   "metadata": {},
   "outputs": [],
   "source": [
    "#happiest_Ricks\n",
    "#saddest Ricks"
   ]
  },
  {
   "cell_type": "code",
   "execution_count": 25,
   "id": "17e0fa57",
   "metadata": {},
   "outputs": [
    {
     "data": {
      "text/html": [
       "<div>\n",
       "<style scoped>\n",
       "    .dataframe tbody tr th:only-of-type {\n",
       "        vertical-align: middle;\n",
       "    }\n",
       "\n",
       "    .dataframe tbody tr th {\n",
       "        vertical-align: top;\n",
       "    }\n",
       "\n",
       "    .dataframe thead th {\n",
       "        text-align: right;\n",
       "    }\n",
       "</style>\n",
       "<table border=\"1\" class=\"dataframe\">\n",
       "  <thead>\n",
       "    <tr style=\"text-align: right;\">\n",
       "      <th></th>\n",
       "      <th>name</th>\n",
       "      <th>line</th>\n",
       "    </tr>\n",
       "  </thead>\n",
       "  <tbody>\n",
       "    <tr>\n",
       "      <th>0</th>\n",
       "      <td>All</td>\n",
       "      <td>That's a fake-ass catchphrase right there.</td>\n",
       "    </tr>\n",
       "    <tr>\n",
       "      <th>1</th>\n",
       "      <td>'Rick D716-B</td>\n",
       "      <td>And I’d just like to say that prescription dru...</td>\n",
       "    </tr>\n",
       "    <tr>\n",
       "      <th>2</th>\n",
       "      <td>Abradolph Lincoler</td>\n",
       "      <td>Rick, you brought me into this world, a suffer...</td>\n",
       "    </tr>\n",
       "    <tr>\n",
       "      <th>3</th>\n",
       "      <td>Agency Director</td>\n",
       "      <td>What is it?,Where is it?,We have 34 armed guar...</td>\n",
       "    </tr>\n",
       "    <tr>\n",
       "      <th>4</th>\n",
       "      <td>Alan</td>\n",
       "      <td>I wish he had the ability to check is attitude...</td>\n",
       "    </tr>\n",
       "    <tr>\n",
       "      <th>...</th>\n",
       "      <td>...</td>\n",
       "      <td>...</td>\n",
       "    </tr>\n",
       "    <tr>\n",
       "      <th>416</th>\n",
       "      <td>Zeep</td>\n",
       "      <td>I said 12 quantum stabilizers, not 11. Fix it ...</td>\n",
       "    </tr>\n",
       "    <tr>\n",
       "      <th>417</th>\n",
       "      <td>Zigerion</td>\n",
       "      <td>Sir, they're over the edge.</td>\n",
       "    </tr>\n",
       "    <tr>\n",
       "      <th>418</th>\n",
       "      <td>Zigerion 1</td>\n",
       "      <td>Oh, god, sir! They're still naked! Ugh.,I thin...</td>\n",
       "    </tr>\n",
       "    <tr>\n",
       "      <th>419</th>\n",
       "      <td>Zigerion 2</td>\n",
       "      <td>Hey, man, Abductions just follows the acquisit...</td>\n",
       "    </tr>\n",
       "    <tr>\n",
       "      <th>420</th>\n",
       "      <td>Zigerion 3</td>\n",
       "      <td>Don't put this on Acquisitions! We only acquir...</td>\n",
       "    </tr>\n",
       "  </tbody>\n",
       "</table>\n",
       "<p>421 rows × 2 columns</p>\n",
       "</div>"
      ],
      "text/plain": [
       "                   name                                               line\n",
       "0                   All         That's a fake-ass catchphrase right there.\n",
       "1          'Rick D716-B  And I’d just like to say that prescription dru...\n",
       "2    Abradolph Lincoler  Rick, you brought me into this world, a suffer...\n",
       "3       Agency Director  What is it?,Where is it?,We have 34 armed guar...\n",
       "4                  Alan  I wish he had the ability to check is attitude...\n",
       "..                  ...                                                ...\n",
       "416                Zeep  I said 12 quantum stabilizers, not 11. Fix it ...\n",
       "417            Zigerion                        Sir, they're over the edge.\n",
       "418          Zigerion 1  Oh, god, sir! They're still naked! Ugh.,I thin...\n",
       "419          Zigerion 2  Hey, man, Abductions just follows the acquisit...\n",
       "420          Zigerion 3  Don't put this on Acquisitions! We only acquir...\n",
       "\n",
       "[421 rows x 2 columns]"
      ]
     },
     "execution_count": 25,
     "metadata": {},
     "output_type": "execute_result"
    }
   ],
   "source": [
    "df_charLines = df_transcripts.groupby(['name'], as_index = False).agg({'line': ','.join})\n",
    "df_charLines"
   ]
  }
 ],
 "metadata": {
  "kernelspec": {
   "display_name": "Python 3",
   "language": "python",
   "name": "python3"
  },
  "language_info": {
   "codemirror_mode": {
    "name": "ipython",
    "version": 3
   },
   "file_extension": ".py",
   "mimetype": "text/x-python",
   "name": "python",
   "nbconvert_exporter": "python",
   "pygments_lexer": "ipython3",
   "version": "3.6.13"
  }
 },
 "nbformat": 4,
 "nbformat_minor": 5
}
